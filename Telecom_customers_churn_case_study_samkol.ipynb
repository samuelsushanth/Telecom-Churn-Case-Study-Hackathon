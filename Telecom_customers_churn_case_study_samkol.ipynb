{
  "cells": [
    {
      "cell_type": "markdown",
      "metadata": {
        "id": "view-in-github",
        "colab_type": "text"
      },
      "source": [
        "<a href=\"https://colab.research.google.com/github/samuelsushanth/Telecom-Churn-Case-Study-Hackathon/blob/main/Telecom_customers_churn_case_study_samkol.ipynb\" target=\"_parent\"><img src=\"https://colab.research.google.com/assets/colab-badge.svg\" alt=\"Open In Colab\"/></a>"
      ]
    },
    {
      "cell_type": "markdown",
      "id": "de04841f",
      "metadata": {
        "id": "de04841f"
      },
      "source": [
        "# Part 1 : Import the Libraries and Data"
      ]
    },
    {
      "cell_type": "code",
      "execution_count": 1,
      "id": "365a8041",
      "metadata": {
        "id": "365a8041"
      },
      "outputs": [],
      "source": [
        "#Import Necessary Libraries\n",
        "\n",
        "import pandas as pd\n",
        "import numpy as np\n",
        "import re\n",
        "import os\n",
        "\n",
        "\n",
        "from sklearn.impute import SimpleImputer\n",
        "from sklearn.preprocessing import StandardScaler\n",
        "from sklearn.model_selection import train_test_split, RandomizedSearchCV\n",
        "from sklearn.ensemble import RandomForestClassifier\n",
        "from sklearn.decomposition import PCA\n",
        "from sklearn.manifold import TSNE\n",
        "from sklearn.linear_model import LogisticRegression\n",
        "from sklearn.pipeline import Pipeline\n",
        "from sklearn.model_selection import GridSearchCV\n",
        "from sklearn.metrics import confusion_matrix, precision_score, recall_score, accuracy_score\n",
        "\n",
        "\n",
        "import xgboost as xgb\n",
        "\n",
        "\n",
        "import matplotlib.pyplot as plt\n",
        "from mpl_toolkits.mplot3d import Axes3D\n",
        "import seaborn as sns\n",
        "\n",
        "#Others\n",
        "import warnings\n",
        "warnings.filterwarnings('ignore')\n"
      ]
    },
    {
      "cell_type": "code",
      "execution_count": 3,
      "id": "1509d29f",
      "metadata": {
        "colab": {
          "base_uri": "https://localhost:8080/"
        },
        "id": "1509d29f",
        "outputId": "23eae80b-a3fa-4b49-939f-6cad1b2444da"
      },
      "outputs": [
        {
          "output_type": "stream",
          "name": "stdout",
          "text": [
            "(10193, 172)\n",
            "(8746, 171)\n",
            "(30000, 2)\n",
            "(36, 2)\n"
          ]
        }
      ],
      "source": [
        "#Read the data\n",
        "\n",
        "data = pd.read_csv(\"train.csv\")\n",
        "unseen = pd.read_csv(\"test.csv\")\n",
        "sample = pd.read_csv(\"sample.csv\")\n",
        "data_dict = pd.read_csv(\"data_dictionary.csv\")\n",
        "\n",
        "print(data.shape)\n",
        "print(unseen.shape)\n",
        "print(sample.shape)\n",
        "print(data_dict.shape)"
      ]
    },
    {
      "cell_type": "markdown",
      "id": "7d49c8b3",
      "metadata": {
        "id": "7d49c8b3"
      },
      "source": [
        "# Part 2: Take a look at the Data"
      ]
    },
    {
      "cell_type": "code",
      "execution_count": null,
      "id": "c59a4b72",
      "metadata": {
        "scrolled": true,
        "id": "c59a4b72",
        "outputId": "a0fd3e56-93a3-440f-c738-4b170ab5e46c"
      },
      "outputs": [
        {
          "data": {
            "text/html": [
              "<div>\n",
              "<style scoped>\n",
              "    .dataframe tbody tr th:only-of-type {\n",
              "        vertical-align: middle;\n",
              "    }\n",
              "\n",
              "    .dataframe tbody tr th {\n",
              "        vertical-align: top;\n",
              "    }\n",
              "\n",
              "    .dataframe thead th {\n",
              "        text-align: right;\n",
              "    }\n",
              "</style>\n",
              "<table border=\"1\" class=\"dataframe\">\n",
              "  <thead>\n",
              "    <tr style=\"text-align: right;\">\n",
              "      <th></th>\n",
              "      <th>id</th>\n",
              "      <th>circle_id</th>\n",
              "      <th>loc_og_t2o_mou</th>\n",
              "      <th>std_og_t2o_mou</th>\n",
              "      <th>loc_ic_t2o_mou</th>\n",
              "      <th>last_date_of_month_6</th>\n",
              "      <th>last_date_of_month_7</th>\n",
              "      <th>last_date_of_month_8</th>\n",
              "      <th>arpu_6</th>\n",
              "      <th>arpu_7</th>\n",
              "      <th>...</th>\n",
              "      <th>sachet_3g_7</th>\n",
              "      <th>sachet_3g_8</th>\n",
              "      <th>fb_user_6</th>\n",
              "      <th>fb_user_7</th>\n",
              "      <th>fb_user_8</th>\n",
              "      <th>aon</th>\n",
              "      <th>aug_vbc_3g</th>\n",
              "      <th>jul_vbc_3g</th>\n",
              "      <th>jun_vbc_3g</th>\n",
              "      <th>churn_probability</th>\n",
              "    </tr>\n",
              "  </thead>\n",
              "  <tbody>\n",
              "    <tr>\n",
              "      <th>0</th>\n",
              "      <td>0</td>\n",
              "      <td>109</td>\n",
              "      <td>0.0</td>\n",
              "      <td>0.0</td>\n",
              "      <td>0.0</td>\n",
              "      <td>6/30/2014</td>\n",
              "      <td>7/31/2014</td>\n",
              "      <td>8/31/2014</td>\n",
              "      <td>31.277</td>\n",
              "      <td>87.009</td>\n",
              "      <td>...</td>\n",
              "      <td>0</td>\n",
              "      <td>0</td>\n",
              "      <td>NaN</td>\n",
              "      <td>NaN</td>\n",
              "      <td>NaN</td>\n",
              "      <td>1958</td>\n",
              "      <td>0.00</td>\n",
              "      <td>0.00</td>\n",
              "      <td>0.00</td>\n",
              "      <td>0</td>\n",
              "    </tr>\n",
              "    <tr>\n",
              "      <th>1</th>\n",
              "      <td>1</td>\n",
              "      <td>109</td>\n",
              "      <td>0.0</td>\n",
              "      <td>0.0</td>\n",
              "      <td>0.0</td>\n",
              "      <td>6/30/2014</td>\n",
              "      <td>7/31/2014</td>\n",
              "      <td>8/31/2014</td>\n",
              "      <td>0.000</td>\n",
              "      <td>122.787</td>\n",
              "      <td>...</td>\n",
              "      <td>0</td>\n",
              "      <td>0</td>\n",
              "      <td>NaN</td>\n",
              "      <td>1.0</td>\n",
              "      <td>NaN</td>\n",
              "      <td>710</td>\n",
              "      <td>0.00</td>\n",
              "      <td>0.00</td>\n",
              "      <td>0.00</td>\n",
              "      <td>0</td>\n",
              "    </tr>\n",
              "    <tr>\n",
              "      <th>2</th>\n",
              "      <td>2</td>\n",
              "      <td>109</td>\n",
              "      <td>0.0</td>\n",
              "      <td>0.0</td>\n",
              "      <td>0.0</td>\n",
              "      <td>6/30/2014</td>\n",
              "      <td>7/31/2014</td>\n",
              "      <td>8/31/2014</td>\n",
              "      <td>60.806</td>\n",
              "      <td>103.176</td>\n",
              "      <td>...</td>\n",
              "      <td>0</td>\n",
              "      <td>0</td>\n",
              "      <td>NaN</td>\n",
              "      <td>NaN</td>\n",
              "      <td>NaN</td>\n",
              "      <td>882</td>\n",
              "      <td>0.00</td>\n",
              "      <td>0.00</td>\n",
              "      <td>0.00</td>\n",
              "      <td>0</td>\n",
              "    </tr>\n",
              "    <tr>\n",
              "      <th>3</th>\n",
              "      <td>3</td>\n",
              "      <td>109</td>\n",
              "      <td>0.0</td>\n",
              "      <td>0.0</td>\n",
              "      <td>0.0</td>\n",
              "      <td>6/30/2014</td>\n",
              "      <td>7/31/2014</td>\n",
              "      <td>8/31/2014</td>\n",
              "      <td>156.362</td>\n",
              "      <td>205.260</td>\n",
              "      <td>...</td>\n",
              "      <td>0</td>\n",
              "      <td>0</td>\n",
              "      <td>NaN</td>\n",
              "      <td>NaN</td>\n",
              "      <td>NaN</td>\n",
              "      <td>982</td>\n",
              "      <td>0.00</td>\n",
              "      <td>0.00</td>\n",
              "      <td>0.00</td>\n",
              "      <td>0</td>\n",
              "    </tr>\n",
              "    <tr>\n",
              "      <th>4</th>\n",
              "      <td>4</td>\n",
              "      <td>109</td>\n",
              "      <td>0.0</td>\n",
              "      <td>0.0</td>\n",
              "      <td>0.0</td>\n",
              "      <td>6/30/2014</td>\n",
              "      <td>7/31/2014</td>\n",
              "      <td>8/31/2014</td>\n",
              "      <td>240.708</td>\n",
              "      <td>128.191</td>\n",
              "      <td>...</td>\n",
              "      <td>1</td>\n",
              "      <td>0</td>\n",
              "      <td>1.0</td>\n",
              "      <td>1.0</td>\n",
              "      <td>1.0</td>\n",
              "      <td>647</td>\n",
              "      <td>0.00</td>\n",
              "      <td>0.00</td>\n",
              "      <td>0.00</td>\n",
              "      <td>0</td>\n",
              "    </tr>\n",
              "    <tr>\n",
              "      <th>...</th>\n",
              "      <td>...</td>\n",
              "      <td>...</td>\n",
              "      <td>...</td>\n",
              "      <td>...</td>\n",
              "      <td>...</td>\n",
              "      <td>...</td>\n",
              "      <td>...</td>\n",
              "      <td>...</td>\n",
              "      <td>...</td>\n",
              "      <td>...</td>\n",
              "      <td>...</td>\n",
              "      <td>...</td>\n",
              "      <td>...</td>\n",
              "      <td>...</td>\n",
              "      <td>...</td>\n",
              "      <td>...</td>\n",
              "      <td>...</td>\n",
              "      <td>...</td>\n",
              "      <td>...</td>\n",
              "      <td>...</td>\n",
              "      <td>...</td>\n",
              "    </tr>\n",
              "    <tr>\n",
              "      <th>69994</th>\n",
              "      <td>69994</td>\n",
              "      <td>109</td>\n",
              "      <td>0.0</td>\n",
              "      <td>0.0</td>\n",
              "      <td>0.0</td>\n",
              "      <td>6/30/2014</td>\n",
              "      <td>7/31/2014</td>\n",
              "      <td>8/31/2014</td>\n",
              "      <td>15.760</td>\n",
              "      <td>410.924</td>\n",
              "      <td>...</td>\n",
              "      <td>1</td>\n",
              "      <td>0</td>\n",
              "      <td>NaN</td>\n",
              "      <td>1.0</td>\n",
              "      <td>1.0</td>\n",
              "      <td>221</td>\n",
              "      <td>0.00</td>\n",
              "      <td>0.00</td>\n",
              "      <td>0.00</td>\n",
              "      <td>0</td>\n",
              "    </tr>\n",
              "    <tr>\n",
              "      <th>69995</th>\n",
              "      <td>69995</td>\n",
              "      <td>109</td>\n",
              "      <td>0.0</td>\n",
              "      <td>0.0</td>\n",
              "      <td>0.0</td>\n",
              "      <td>6/30/2014</td>\n",
              "      <td>7/31/2014</td>\n",
              "      <td>8/31/2014</td>\n",
              "      <td>160.083</td>\n",
              "      <td>289.129</td>\n",
              "      <td>...</td>\n",
              "      <td>0</td>\n",
              "      <td>0</td>\n",
              "      <td>NaN</td>\n",
              "      <td>NaN</td>\n",
              "      <td>NaN</td>\n",
              "      <td>712</td>\n",
              "      <td>0.00</td>\n",
              "      <td>0.00</td>\n",
              "      <td>0.00</td>\n",
              "      <td>0</td>\n",
              "    </tr>\n",
              "    <tr>\n",
              "      <th>69996</th>\n",
              "      <td>69996</td>\n",
              "      <td>109</td>\n",
              "      <td>0.0</td>\n",
              "      <td>0.0</td>\n",
              "      <td>0.0</td>\n",
              "      <td>6/30/2014</td>\n",
              "      <td>7/31/2014</td>\n",
              "      <td>8/31/2014</td>\n",
              "      <td>372.088</td>\n",
              "      <td>258.374</td>\n",
              "      <td>...</td>\n",
              "      <td>0</td>\n",
              "      <td>0</td>\n",
              "      <td>NaN</td>\n",
              "      <td>NaN</td>\n",
              "      <td>NaN</td>\n",
              "      <td>879</td>\n",
              "      <td>0.00</td>\n",
              "      <td>0.00</td>\n",
              "      <td>0.00</td>\n",
              "      <td>0</td>\n",
              "    </tr>\n",
              "    <tr>\n",
              "      <th>69997</th>\n",
              "      <td>69997</td>\n",
              "      <td>109</td>\n",
              "      <td>0.0</td>\n",
              "      <td>0.0</td>\n",
              "      <td>0.0</td>\n",
              "      <td>6/30/2014</td>\n",
              "      <td>7/31/2014</td>\n",
              "      <td>8/31/2014</td>\n",
              "      <td>238.575</td>\n",
              "      <td>245.414</td>\n",
              "      <td>...</td>\n",
              "      <td>0</td>\n",
              "      <td>0</td>\n",
              "      <td>1.0</td>\n",
              "      <td>1.0</td>\n",
              "      <td>1.0</td>\n",
              "      <td>277</td>\n",
              "      <td>664.25</td>\n",
              "      <td>1402.96</td>\n",
              "      <td>990.97</td>\n",
              "      <td>0</td>\n",
              "    </tr>\n",
              "    <tr>\n",
              "      <th>69998</th>\n",
              "      <td>69998</td>\n",
              "      <td>109</td>\n",
              "      <td>0.0</td>\n",
              "      <td>0.0</td>\n",
              "      <td>0.0</td>\n",
              "      <td>6/30/2014</td>\n",
              "      <td>7/31/2014</td>\n",
              "      <td>8/31/2014</td>\n",
              "      <td>168.269</td>\n",
              "      <td>42.815</td>\n",
              "      <td>...</td>\n",
              "      <td>0</td>\n",
              "      <td>0</td>\n",
              "      <td>1.0</td>\n",
              "      <td>NaN</td>\n",
              "      <td>1.0</td>\n",
              "      <td>1876</td>\n",
              "      <td>0.00</td>\n",
              "      <td>0.00</td>\n",
              "      <td>0.00</td>\n",
              "      <td>0</td>\n",
              "    </tr>\n",
              "  </tbody>\n",
              "</table>\n",
              "<p>69999 rows × 172 columns</p>\n",
              "</div>"
            ],
            "text/plain": [
              "          id  circle_id  loc_og_t2o_mou  std_og_t2o_mou  loc_ic_t2o_mou  \\\n",
              "0          0        109             0.0             0.0             0.0   \n",
              "1          1        109             0.0             0.0             0.0   \n",
              "2          2        109             0.0             0.0             0.0   \n",
              "3          3        109             0.0             0.0             0.0   \n",
              "4          4        109             0.0             0.0             0.0   \n",
              "...      ...        ...             ...             ...             ...   \n",
              "69994  69994        109             0.0             0.0             0.0   \n",
              "69995  69995        109             0.0             0.0             0.0   \n",
              "69996  69996        109             0.0             0.0             0.0   \n",
              "69997  69997        109             0.0             0.0             0.0   \n",
              "69998  69998        109             0.0             0.0             0.0   \n",
              "\n",
              "      last_date_of_month_6 last_date_of_month_7 last_date_of_month_8   arpu_6  \\\n",
              "0                6/30/2014            7/31/2014            8/31/2014   31.277   \n",
              "1                6/30/2014            7/31/2014            8/31/2014    0.000   \n",
              "2                6/30/2014            7/31/2014            8/31/2014   60.806   \n",
              "3                6/30/2014            7/31/2014            8/31/2014  156.362   \n",
              "4                6/30/2014            7/31/2014            8/31/2014  240.708   \n",
              "...                    ...                  ...                  ...      ...   \n",
              "69994            6/30/2014            7/31/2014            8/31/2014   15.760   \n",
              "69995            6/30/2014            7/31/2014            8/31/2014  160.083   \n",
              "69996            6/30/2014            7/31/2014            8/31/2014  372.088   \n",
              "69997            6/30/2014            7/31/2014            8/31/2014  238.575   \n",
              "69998            6/30/2014            7/31/2014            8/31/2014  168.269   \n",
              "\n",
              "        arpu_7  ...  sachet_3g_7  sachet_3g_8  fb_user_6  fb_user_7  \\\n",
              "0       87.009  ...            0            0        NaN        NaN   \n",
              "1      122.787  ...            0            0        NaN        1.0   \n",
              "2      103.176  ...            0            0        NaN        NaN   \n",
              "3      205.260  ...            0            0        NaN        NaN   \n",
              "4      128.191  ...            1            0        1.0        1.0   \n",
              "...        ...  ...          ...          ...        ...        ...   \n",
              "69994  410.924  ...            1            0        NaN        1.0   \n",
              "69995  289.129  ...            0            0        NaN        NaN   \n",
              "69996  258.374  ...            0            0        NaN        NaN   \n",
              "69997  245.414  ...            0            0        1.0        1.0   \n",
              "69998   42.815  ...            0            0        1.0        NaN   \n",
              "\n",
              "       fb_user_8   aon  aug_vbc_3g  jul_vbc_3g  jun_vbc_3g  churn_probability  \n",
              "0            NaN  1958        0.00        0.00        0.00                  0  \n",
              "1            NaN   710        0.00        0.00        0.00                  0  \n",
              "2            NaN   882        0.00        0.00        0.00                  0  \n",
              "3            NaN   982        0.00        0.00        0.00                  0  \n",
              "4            1.0   647        0.00        0.00        0.00                  0  \n",
              "...          ...   ...         ...         ...         ...                ...  \n",
              "69994        1.0   221        0.00        0.00        0.00                  0  \n",
              "69995        NaN   712        0.00        0.00        0.00                  0  \n",
              "69996        NaN   879        0.00        0.00        0.00                  0  \n",
              "69997        1.0   277      664.25     1402.96      990.97                  0  \n",
              "69998        1.0  1876        0.00        0.00        0.00                  0  \n",
              "\n",
              "[69999 rows x 172 columns]"
            ]
          },
          "execution_count": 3,
          "metadata": {},
          "output_type": "execute_result"
        }
      ],
      "source": [
        "data"
      ]
    },
    {
      "cell_type": "code",
      "execution_count": null,
      "id": "8006fbcf",
      "metadata": {
        "id": "8006fbcf",
        "outputId": "68f447b6-7e98-4f06-fc7c-0028820e16d2"
      },
      "outputs": [
        {
          "data": {
            "text/html": [
              "<div>\n",
              "<style scoped>\n",
              "    .dataframe tbody tr th:only-of-type {\n",
              "        vertical-align: middle;\n",
              "    }\n",
              "\n",
              "    .dataframe tbody tr th {\n",
              "        vertical-align: top;\n",
              "    }\n",
              "\n",
              "    .dataframe thead th {\n",
              "        text-align: right;\n",
              "    }\n",
              "</style>\n",
              "<table border=\"1\" class=\"dataframe\">\n",
              "  <thead>\n",
              "    <tr style=\"text-align: right;\">\n",
              "      <th></th>\n",
              "      <th>id</th>\n",
              "      <th>circle_id</th>\n",
              "      <th>loc_og_t2o_mou</th>\n",
              "      <th>std_og_t2o_mou</th>\n",
              "      <th>loc_ic_t2o_mou</th>\n",
              "      <th>last_date_of_month_6</th>\n",
              "      <th>last_date_of_month_7</th>\n",
              "      <th>last_date_of_month_8</th>\n",
              "      <th>arpu_6</th>\n",
              "      <th>arpu_7</th>\n",
              "      <th>...</th>\n",
              "      <th>sachet_3g_6</th>\n",
              "      <th>sachet_3g_7</th>\n",
              "      <th>sachet_3g_8</th>\n",
              "      <th>fb_user_6</th>\n",
              "      <th>fb_user_7</th>\n",
              "      <th>fb_user_8</th>\n",
              "      <th>aon</th>\n",
              "      <th>aug_vbc_3g</th>\n",
              "      <th>jul_vbc_3g</th>\n",
              "      <th>jun_vbc_3g</th>\n",
              "    </tr>\n",
              "  </thead>\n",
              "  <tbody>\n",
              "    <tr>\n",
              "      <th>0</th>\n",
              "      <td>69999</td>\n",
              "      <td>109</td>\n",
              "      <td>0.0</td>\n",
              "      <td>0.0</td>\n",
              "      <td>0.0</td>\n",
              "      <td>6/30/2014</td>\n",
              "      <td>7/31/2014</td>\n",
              "      <td>8/31/2014</td>\n",
              "      <td>91.882</td>\n",
              "      <td>65.330</td>\n",
              "      <td>...</td>\n",
              "      <td>0</td>\n",
              "      <td>0</td>\n",
              "      <td>0</td>\n",
              "      <td>NaN</td>\n",
              "      <td>NaN</td>\n",
              "      <td>NaN</td>\n",
              "      <td>1692</td>\n",
              "      <td>0.00</td>\n",
              "      <td>0.00</td>\n",
              "      <td>0.00</td>\n",
              "    </tr>\n",
              "    <tr>\n",
              "      <th>1</th>\n",
              "      <td>70000</td>\n",
              "      <td>109</td>\n",
              "      <td>0.0</td>\n",
              "      <td>0.0</td>\n",
              "      <td>0.0</td>\n",
              "      <td>6/30/2014</td>\n",
              "      <td>7/31/2014</td>\n",
              "      <td>8/31/2014</td>\n",
              "      <td>414.168</td>\n",
              "      <td>515.568</td>\n",
              "      <td>...</td>\n",
              "      <td>0</td>\n",
              "      <td>0</td>\n",
              "      <td>0</td>\n",
              "      <td>NaN</td>\n",
              "      <td>NaN</td>\n",
              "      <td>NaN</td>\n",
              "      <td>2533</td>\n",
              "      <td>0.00</td>\n",
              "      <td>0.00</td>\n",
              "      <td>0.00</td>\n",
              "    </tr>\n",
              "    <tr>\n",
              "      <th>2</th>\n",
              "      <td>70001</td>\n",
              "      <td>109</td>\n",
              "      <td>0.0</td>\n",
              "      <td>0.0</td>\n",
              "      <td>0.0</td>\n",
              "      <td>6/30/2014</td>\n",
              "      <td>7/31/2014</td>\n",
              "      <td>8/31/2014</td>\n",
              "      <td>329.844</td>\n",
              "      <td>434.884</td>\n",
              "      <td>...</td>\n",
              "      <td>0</td>\n",
              "      <td>0</td>\n",
              "      <td>0</td>\n",
              "      <td>NaN</td>\n",
              "      <td>NaN</td>\n",
              "      <td>NaN</td>\n",
              "      <td>277</td>\n",
              "      <td>525.61</td>\n",
              "      <td>758.41</td>\n",
              "      <td>241.84</td>\n",
              "    </tr>\n",
              "    <tr>\n",
              "      <th>3</th>\n",
              "      <td>70002</td>\n",
              "      <td>109</td>\n",
              "      <td>0.0</td>\n",
              "      <td>0.0</td>\n",
              "      <td>0.0</td>\n",
              "      <td>6/30/2014</td>\n",
              "      <td>7/31/2014</td>\n",
              "      <td>8/31/2014</td>\n",
              "      <td>43.550</td>\n",
              "      <td>171.390</td>\n",
              "      <td>...</td>\n",
              "      <td>0</td>\n",
              "      <td>0</td>\n",
              "      <td>0</td>\n",
              "      <td>NaN</td>\n",
              "      <td>NaN</td>\n",
              "      <td>NaN</td>\n",
              "      <td>1244</td>\n",
              "      <td>0.00</td>\n",
              "      <td>0.00</td>\n",
              "      <td>0.00</td>\n",
              "    </tr>\n",
              "    <tr>\n",
              "      <th>4</th>\n",
              "      <td>70003</td>\n",
              "      <td>109</td>\n",
              "      <td>0.0</td>\n",
              "      <td>0.0</td>\n",
              "      <td>0.0</td>\n",
              "      <td>6/30/2014</td>\n",
              "      <td>7/31/2014</td>\n",
              "      <td>8/31/2014</td>\n",
              "      <td>306.854</td>\n",
              "      <td>406.289</td>\n",
              "      <td>...</td>\n",
              "      <td>0</td>\n",
              "      <td>0</td>\n",
              "      <td>0</td>\n",
              "      <td>NaN</td>\n",
              "      <td>NaN</td>\n",
              "      <td>NaN</td>\n",
              "      <td>462</td>\n",
              "      <td>0.00</td>\n",
              "      <td>0.00</td>\n",
              "      <td>0.00</td>\n",
              "    </tr>\n",
              "    <tr>\n",
              "      <th>...</th>\n",
              "      <td>...</td>\n",
              "      <td>...</td>\n",
              "      <td>...</td>\n",
              "      <td>...</td>\n",
              "      <td>...</td>\n",
              "      <td>...</td>\n",
              "      <td>...</td>\n",
              "      <td>...</td>\n",
              "      <td>...</td>\n",
              "      <td>...</td>\n",
              "      <td>...</td>\n",
              "      <td>...</td>\n",
              "      <td>...</td>\n",
              "      <td>...</td>\n",
              "      <td>...</td>\n",
              "      <td>...</td>\n",
              "      <td>...</td>\n",
              "      <td>...</td>\n",
              "      <td>...</td>\n",
              "      <td>...</td>\n",
              "      <td>...</td>\n",
              "    </tr>\n",
              "    <tr>\n",
              "      <th>29995</th>\n",
              "      <td>99994</td>\n",
              "      <td>109</td>\n",
              "      <td>0.0</td>\n",
              "      <td>0.0</td>\n",
              "      <td>0.0</td>\n",
              "      <td>6/30/2014</td>\n",
              "      <td>7/31/2014</td>\n",
              "      <td>8/31/2014</td>\n",
              "      <td>718.870</td>\n",
              "      <td>396.259</td>\n",
              "      <td>...</td>\n",
              "      <td>0</td>\n",
              "      <td>0</td>\n",
              "      <td>0</td>\n",
              "      <td>1.0</td>\n",
              "      <td>NaN</td>\n",
              "      <td>NaN</td>\n",
              "      <td>1255</td>\n",
              "      <td>3.71</td>\n",
              "      <td>105.64</td>\n",
              "      <td>61.48</td>\n",
              "    </tr>\n",
              "    <tr>\n",
              "      <th>29996</th>\n",
              "      <td>99995</td>\n",
              "      <td>109</td>\n",
              "      <td>0.0</td>\n",
              "      <td>0.0</td>\n",
              "      <td>0.0</td>\n",
              "      <td>6/30/2014</td>\n",
              "      <td>7/31/2014</td>\n",
              "      <td>8/31/2014</td>\n",
              "      <td>218.327</td>\n",
              "      <td>324.070</td>\n",
              "      <td>...</td>\n",
              "      <td>0</td>\n",
              "      <td>0</td>\n",
              "      <td>0</td>\n",
              "      <td>NaN</td>\n",
              "      <td>0.0</td>\n",
              "      <td>NaN</td>\n",
              "      <td>2258</td>\n",
              "      <td>0.00</td>\n",
              "      <td>0.00</td>\n",
              "      <td>0.00</td>\n",
              "    </tr>\n",
              "    <tr>\n",
              "      <th>29997</th>\n",
              "      <td>99996</td>\n",
              "      <td>109</td>\n",
              "      <td>0.0</td>\n",
              "      <td>0.0</td>\n",
              "      <td>0.0</td>\n",
              "      <td>6/30/2014</td>\n",
              "      <td>7/31/2014</td>\n",
              "      <td>8/31/2014</td>\n",
              "      <td>139.473</td>\n",
              "      <td>38.230</td>\n",
              "      <td>...</td>\n",
              "      <td>0</td>\n",
              "      <td>0</td>\n",
              "      <td>0</td>\n",
              "      <td>NaN</td>\n",
              "      <td>NaN</td>\n",
              "      <td>NaN</td>\n",
              "      <td>440</td>\n",
              "      <td>0.00</td>\n",
              "      <td>0.00</td>\n",
              "      <td>0.00</td>\n",
              "    </tr>\n",
              "    <tr>\n",
              "      <th>29998</th>\n",
              "      <td>99997</td>\n",
              "      <td>109</td>\n",
              "      <td>0.0</td>\n",
              "      <td>0.0</td>\n",
              "      <td>0.0</td>\n",
              "      <td>6/30/2014</td>\n",
              "      <td>7/31/2014</td>\n",
              "      <td>8/31/2014</td>\n",
              "      <td>1122.912</td>\n",
              "      <td>781.121</td>\n",
              "      <td>...</td>\n",
              "      <td>0</td>\n",
              "      <td>0</td>\n",
              "      <td>0</td>\n",
              "      <td>NaN</td>\n",
              "      <td>NaN</td>\n",
              "      <td>NaN</td>\n",
              "      <td>810</td>\n",
              "      <td>0.00</td>\n",
              "      <td>0.00</td>\n",
              "      <td>0.00</td>\n",
              "    </tr>\n",
              "    <tr>\n",
              "      <th>29999</th>\n",
              "      <td>99998</td>\n",
              "      <td>109</td>\n",
              "      <td>0.0</td>\n",
              "      <td>0.0</td>\n",
              "      <td>0.0</td>\n",
              "      <td>6/30/2014</td>\n",
              "      <td>7/31/2014</td>\n",
              "      <td>8/31/2014</td>\n",
              "      <td>318.980</td>\n",
              "      <td>307.890</td>\n",
              "      <td>...</td>\n",
              "      <td>1</td>\n",
              "      <td>1</td>\n",
              "      <td>0</td>\n",
              "      <td>1.0</td>\n",
              "      <td>1.0</td>\n",
              "      <td>1.0</td>\n",
              "      <td>440</td>\n",
              "      <td>762.55</td>\n",
              "      <td>687.13</td>\n",
              "      <td>22.76</td>\n",
              "    </tr>\n",
              "  </tbody>\n",
              "</table>\n",
              "<p>30000 rows × 171 columns</p>\n",
              "</div>"
            ],
            "text/plain": [
              "          id  circle_id  loc_og_t2o_mou  std_og_t2o_mou  loc_ic_t2o_mou  \\\n",
              "0      69999        109             0.0             0.0             0.0   \n",
              "1      70000        109             0.0             0.0             0.0   \n",
              "2      70001        109             0.0             0.0             0.0   \n",
              "3      70002        109             0.0             0.0             0.0   \n",
              "4      70003        109             0.0             0.0             0.0   \n",
              "...      ...        ...             ...             ...             ...   \n",
              "29995  99994        109             0.0             0.0             0.0   \n",
              "29996  99995        109             0.0             0.0             0.0   \n",
              "29997  99996        109             0.0             0.0             0.0   \n",
              "29998  99997        109             0.0             0.0             0.0   \n",
              "29999  99998        109             0.0             0.0             0.0   \n",
              "\n",
              "      last_date_of_month_6 last_date_of_month_7 last_date_of_month_8  \\\n",
              "0                6/30/2014            7/31/2014            8/31/2014   \n",
              "1                6/30/2014            7/31/2014            8/31/2014   \n",
              "2                6/30/2014            7/31/2014            8/31/2014   \n",
              "3                6/30/2014            7/31/2014            8/31/2014   \n",
              "4                6/30/2014            7/31/2014            8/31/2014   \n",
              "...                    ...                  ...                  ...   \n",
              "29995            6/30/2014            7/31/2014            8/31/2014   \n",
              "29996            6/30/2014            7/31/2014            8/31/2014   \n",
              "29997            6/30/2014            7/31/2014            8/31/2014   \n",
              "29998            6/30/2014            7/31/2014            8/31/2014   \n",
              "29999            6/30/2014            7/31/2014            8/31/2014   \n",
              "\n",
              "         arpu_6   arpu_7  ...  sachet_3g_6  sachet_3g_7  sachet_3g_8  \\\n",
              "0        91.882   65.330  ...            0            0            0   \n",
              "1       414.168  515.568  ...            0            0            0   \n",
              "2       329.844  434.884  ...            0            0            0   \n",
              "3        43.550  171.390  ...            0            0            0   \n",
              "4       306.854  406.289  ...            0            0            0   \n",
              "...         ...      ...  ...          ...          ...          ...   \n",
              "29995   718.870  396.259  ...            0            0            0   \n",
              "29996   218.327  324.070  ...            0            0            0   \n",
              "29997   139.473   38.230  ...            0            0            0   \n",
              "29998  1122.912  781.121  ...            0            0            0   \n",
              "29999   318.980  307.890  ...            1            1            0   \n",
              "\n",
              "       fb_user_6  fb_user_7  fb_user_8   aon  aug_vbc_3g  jul_vbc_3g  \\\n",
              "0            NaN        NaN        NaN  1692        0.00        0.00   \n",
              "1            NaN        NaN        NaN  2533        0.00        0.00   \n",
              "2            NaN        NaN        NaN   277      525.61      758.41   \n",
              "3            NaN        NaN        NaN  1244        0.00        0.00   \n",
              "4            NaN        NaN        NaN   462        0.00        0.00   \n",
              "...          ...        ...        ...   ...         ...         ...   \n",
              "29995        1.0        NaN        NaN  1255        3.71      105.64   \n",
              "29996        NaN        0.0        NaN  2258        0.00        0.00   \n",
              "29997        NaN        NaN        NaN   440        0.00        0.00   \n",
              "29998        NaN        NaN        NaN   810        0.00        0.00   \n",
              "29999        1.0        1.0        1.0   440      762.55      687.13   \n",
              "\n",
              "       jun_vbc_3g  \n",
              "0            0.00  \n",
              "1            0.00  \n",
              "2          241.84  \n",
              "3            0.00  \n",
              "4            0.00  \n",
              "...           ...  \n",
              "29995       61.48  \n",
              "29996        0.00  \n",
              "29997        0.00  \n",
              "29998        0.00  \n",
              "29999       22.76  \n",
              "\n",
              "[30000 rows x 171 columns]"
            ]
          },
          "execution_count": 4,
          "metadata": {},
          "output_type": "execute_result"
        }
      ],
      "source": [
        "unseen"
      ]
    },
    {
      "cell_type": "code",
      "execution_count": null,
      "id": "40632d80",
      "metadata": {
        "id": "40632d80",
        "outputId": "8f268cdd-d70a-42f4-857e-2d5e7ad24959"
      },
      "outputs": [
        {
          "data": {
            "text/html": [
              "<div>\n",
              "<style scoped>\n",
              "    .dataframe tbody tr th:only-of-type {\n",
              "        vertical-align: middle;\n",
              "    }\n",
              "\n",
              "    .dataframe tbody tr th {\n",
              "        vertical-align: top;\n",
              "    }\n",
              "\n",
              "    .dataframe thead th {\n",
              "        text-align: right;\n",
              "    }\n",
              "</style>\n",
              "<table border=\"1\" class=\"dataframe\">\n",
              "  <thead>\n",
              "    <tr style=\"text-align: right;\">\n",
              "      <th></th>\n",
              "      <th>id</th>\n",
              "      <th>churn_probability</th>\n",
              "    </tr>\n",
              "  </thead>\n",
              "  <tbody>\n",
              "    <tr>\n",
              "      <th>0</th>\n",
              "      <td>69999</td>\n",
              "      <td>0</td>\n",
              "    </tr>\n",
              "    <tr>\n",
              "      <th>1</th>\n",
              "      <td>70000</td>\n",
              "      <td>0</td>\n",
              "    </tr>\n",
              "    <tr>\n",
              "      <th>2</th>\n",
              "      <td>70001</td>\n",
              "      <td>0</td>\n",
              "    </tr>\n",
              "    <tr>\n",
              "      <th>3</th>\n",
              "      <td>70002</td>\n",
              "      <td>0</td>\n",
              "    </tr>\n",
              "    <tr>\n",
              "      <th>4</th>\n",
              "      <td>70003</td>\n",
              "      <td>0</td>\n",
              "    </tr>\n",
              "    <tr>\n",
              "      <th>...</th>\n",
              "      <td>...</td>\n",
              "      <td>...</td>\n",
              "    </tr>\n",
              "    <tr>\n",
              "      <th>29995</th>\n",
              "      <td>99994</td>\n",
              "      <td>0</td>\n",
              "    </tr>\n",
              "    <tr>\n",
              "      <th>29996</th>\n",
              "      <td>99995</td>\n",
              "      <td>0</td>\n",
              "    </tr>\n",
              "    <tr>\n",
              "      <th>29997</th>\n",
              "      <td>99996</td>\n",
              "      <td>0</td>\n",
              "    </tr>\n",
              "    <tr>\n",
              "      <th>29998</th>\n",
              "      <td>99997</td>\n",
              "      <td>0</td>\n",
              "    </tr>\n",
              "    <tr>\n",
              "      <th>29999</th>\n",
              "      <td>99998</td>\n",
              "      <td>0</td>\n",
              "    </tr>\n",
              "  </tbody>\n",
              "</table>\n",
              "<p>30000 rows × 2 columns</p>\n",
              "</div>"
            ],
            "text/plain": [
              "          id  churn_probability\n",
              "0      69999                  0\n",
              "1      70000                  0\n",
              "2      70001                  0\n",
              "3      70002                  0\n",
              "4      70003                  0\n",
              "...      ...                ...\n",
              "29995  99994                  0\n",
              "29996  99995                  0\n",
              "29997  99996                  0\n",
              "29998  99997                  0\n",
              "29999  99998                  0\n",
              "\n",
              "[30000 rows x 2 columns]"
            ]
          },
          "execution_count": 5,
          "metadata": {},
          "output_type": "execute_result"
        }
      ],
      "source": [
        "sample"
      ]
    },
    {
      "cell_type": "code",
      "execution_count": null,
      "id": "9bc8bf42",
      "metadata": {
        "id": "9bc8bf42",
        "outputId": "b1bebefa-791a-47cd-f7d9-0595d9aa2823"
      },
      "outputs": [
        {
          "data": {
            "text/html": [
              "<div>\n",
              "<style scoped>\n",
              "    .dataframe tbody tr th:only-of-type {\n",
              "        vertical-align: middle;\n",
              "    }\n",
              "\n",
              "    .dataframe tbody tr th {\n",
              "        vertical-align: top;\n",
              "    }\n",
              "\n",
              "    .dataframe thead th {\n",
              "        text-align: right;\n",
              "    }\n",
              "</style>\n",
              "<table border=\"1\" class=\"dataframe\">\n",
              "  <thead>\n",
              "    <tr style=\"text-align: right;\">\n",
              "      <th></th>\n",
              "      <th>Acronyms</th>\n",
              "      <th>Description</th>\n",
              "    </tr>\n",
              "  </thead>\n",
              "  <tbody>\n",
              "    <tr>\n",
              "      <th>0</th>\n",
              "      <td>CIRCLE_ID</td>\n",
              "      <td>Telecom circle area to which the customer belo...</td>\n",
              "    </tr>\n",
              "    <tr>\n",
              "      <th>1</th>\n",
              "      <td>LOC</td>\n",
              "      <td>Local calls  within same telecom circle</td>\n",
              "    </tr>\n",
              "    <tr>\n",
              "      <th>2</th>\n",
              "      <td>STD</td>\n",
              "      <td>STD calls  outside the calling circle</td>\n",
              "    </tr>\n",
              "    <tr>\n",
              "      <th>3</th>\n",
              "      <td>IC</td>\n",
              "      <td>Incoming calls</td>\n",
              "    </tr>\n",
              "    <tr>\n",
              "      <th>4</th>\n",
              "      <td>OG</td>\n",
              "      <td>Outgoing calls</td>\n",
              "    </tr>\n",
              "    <tr>\n",
              "      <th>5</th>\n",
              "      <td>T2T</td>\n",
              "      <td>Operator T to T ie within same operator mobile...</td>\n",
              "    </tr>\n",
              "    <tr>\n",
              "      <th>6</th>\n",
              "      <td>T2M</td>\n",
              "      <td>Operator T to other operator mobile</td>\n",
              "    </tr>\n",
              "    <tr>\n",
              "      <th>7</th>\n",
              "      <td>T2O</td>\n",
              "      <td>Operator T to other operator fixed line</td>\n",
              "    </tr>\n",
              "    <tr>\n",
              "      <th>8</th>\n",
              "      <td>T2F</td>\n",
              "      <td>Operator T to fixed lines of T</td>\n",
              "    </tr>\n",
              "    <tr>\n",
              "      <th>9</th>\n",
              "      <td>T2C</td>\n",
              "      <td>Operator T to its own call center</td>\n",
              "    </tr>\n",
              "    <tr>\n",
              "      <th>10</th>\n",
              "      <td>ARPU</td>\n",
              "      <td>Average revenue per user</td>\n",
              "    </tr>\n",
              "    <tr>\n",
              "      <th>11</th>\n",
              "      <td>MOU</td>\n",
              "      <td>Minutes of usage  voice calls</td>\n",
              "    </tr>\n",
              "    <tr>\n",
              "      <th>12</th>\n",
              "      <td>AON</td>\n",
              "      <td>Age on network  number of days the customer is...</td>\n",
              "    </tr>\n",
              "    <tr>\n",
              "      <th>13</th>\n",
              "      <td>ONNET</td>\n",
              "      <td>All kind of calls within the same operator net...</td>\n",
              "    </tr>\n",
              "    <tr>\n",
              "      <th>14</th>\n",
              "      <td>OFFNET</td>\n",
              "      <td>All kind of calls outside the operator T network</td>\n",
              "    </tr>\n",
              "    <tr>\n",
              "      <th>15</th>\n",
              "      <td>ROAM</td>\n",
              "      <td>Indicates that customer is in roaming zone dur...</td>\n",
              "    </tr>\n",
              "    <tr>\n",
              "      <th>16</th>\n",
              "      <td>SPL</td>\n",
              "      <td>Special calls</td>\n",
              "    </tr>\n",
              "    <tr>\n",
              "      <th>17</th>\n",
              "      <td>ISD</td>\n",
              "      <td>ISD calls</td>\n",
              "    </tr>\n",
              "    <tr>\n",
              "      <th>18</th>\n",
              "      <td>RECH</td>\n",
              "      <td>Recharge</td>\n",
              "    </tr>\n",
              "    <tr>\n",
              "      <th>19</th>\n",
              "      <td>NUM</td>\n",
              "      <td>Number</td>\n",
              "    </tr>\n",
              "    <tr>\n",
              "      <th>20</th>\n",
              "      <td>AMT</td>\n",
              "      <td>Amount in local currency</td>\n",
              "    </tr>\n",
              "    <tr>\n",
              "      <th>21</th>\n",
              "      <td>MAX</td>\n",
              "      <td>Maximum</td>\n",
              "    </tr>\n",
              "    <tr>\n",
              "      <th>22</th>\n",
              "      <td>DATA</td>\n",
              "      <td>Mobile internet</td>\n",
              "    </tr>\n",
              "    <tr>\n",
              "      <th>23</th>\n",
              "      <td>3G</td>\n",
              "      <td>G network</td>\n",
              "    </tr>\n",
              "    <tr>\n",
              "      <th>24</th>\n",
              "      <td>AV</td>\n",
              "      <td>Average</td>\n",
              "    </tr>\n",
              "    <tr>\n",
              "      <th>25</th>\n",
              "      <td>VOL</td>\n",
              "      <td>Mobile internet usage volume in MB</td>\n",
              "    </tr>\n",
              "    <tr>\n",
              "      <th>26</th>\n",
              "      <td>2G</td>\n",
              "      <td>G network</td>\n",
              "    </tr>\n",
              "    <tr>\n",
              "      <th>27</th>\n",
              "      <td>PCK</td>\n",
              "      <td>Prepaid service schemes called  PACKS</td>\n",
              "    </tr>\n",
              "    <tr>\n",
              "      <th>28</th>\n",
              "      <td>NIGHT</td>\n",
              "      <td>Scheme to use during specific night hours only</td>\n",
              "    </tr>\n",
              "    <tr>\n",
              "      <th>29</th>\n",
              "      <td>MONTHLY</td>\n",
              "      <td>Service schemes with validity equivalent to a ...</td>\n",
              "    </tr>\n",
              "    <tr>\n",
              "      <th>30</th>\n",
              "      <td>SACHET</td>\n",
              "      <td>Service schemes with validity smaller than a m...</td>\n",
              "    </tr>\n",
              "    <tr>\n",
              "      <th>31</th>\n",
              "      <td>*.6</td>\n",
              "      <td>KPI for the month of June</td>\n",
              "    </tr>\n",
              "    <tr>\n",
              "      <th>32</th>\n",
              "      <td>*.7</td>\n",
              "      <td>KPI for the month of July</td>\n",
              "    </tr>\n",
              "    <tr>\n",
              "      <th>33</th>\n",
              "      <td>*.8</td>\n",
              "      <td>KPI for the month of August</td>\n",
              "    </tr>\n",
              "    <tr>\n",
              "      <th>34</th>\n",
              "      <td>FB_USER</td>\n",
              "      <td>Service scheme to avail services of Facebook a...</td>\n",
              "    </tr>\n",
              "    <tr>\n",
              "      <th>35</th>\n",
              "      <td>VBC</td>\n",
              "      <td>Volume based cost  when no specific scheme is ...</td>\n",
              "    </tr>\n",
              "  </tbody>\n",
              "</table>\n",
              "</div>"
            ],
            "text/plain": [
              "       Acronyms                                        Description\n",
              "0     CIRCLE_ID  Telecom circle area to which the customer belo...\n",
              "1           LOC            Local calls  within same telecom circle\n",
              "2           STD              STD calls  outside the calling circle\n",
              "3            IC                                     Incoming calls\n",
              "4            OG                                     Outgoing calls\n",
              "5           T2T  Operator T to T ie within same operator mobile...\n",
              "6       T2M                    Operator T to other operator mobile\n",
              "7       T2O                Operator T to other operator fixed line\n",
              "8       T2F                         Operator T to fixed lines of T\n",
              "9       T2C                      Operator T to its own call center\n",
              "10     ARPU                               Average revenue per user\n",
              "11      MOU                          Minutes of usage  voice calls\n",
              "12      AON      Age on network  number of days the customer is...\n",
              "13     ONNET     All kind of calls within the same operator net...\n",
              "14   OFFNET       All kind of calls outside the operator T network\n",
              "15         ROAM  Indicates that customer is in roaming zone dur...\n",
              "16       SPL                                         Special calls\n",
              "17      ISD                                              ISD calls\n",
              "18     RECH                                               Recharge\n",
              "19      NUM                                                 Number\n",
              "20      AMT                               Amount in local currency\n",
              "21      MAX                                                Maximum\n",
              "22     DATA                                        Mobile internet\n",
              "23       3G                                              G network\n",
              "24       AV                                                Average\n",
              "25      VOL                     Mobile internet usage volume in MB\n",
              "26       2G                                              G network\n",
              "27      PCK                  Prepaid service schemes called  PACKS\n",
              "28    NIGHT         Scheme to use during specific night hours only\n",
              "29  MONTHLY      Service schemes with validity equivalent to a ...\n",
              "30    SACHET     Service schemes with validity smaller than a m...\n",
              "31      *.6                              KPI for the month of June\n",
              "32      *.7                              KPI for the month of July\n",
              "33      *.8                            KPI for the month of August\n",
              "34      FB_USER  Service scheme to avail services of Facebook a...\n",
              "35      VBC      Volume based cost  when no specific scheme is ..."
            ]
          },
          "execution_count": 6,
          "metadata": {},
          "output_type": "execute_result"
        }
      ],
      "source": [
        "data_dict"
      ]
    },
    {
      "cell_type": "markdown",
      "id": "049bb94e",
      "metadata": {
        "id": "049bb94e"
      },
      "source": [
        "# Part 3: Data Analysis and Clean Up"
      ]
    },
    {
      "cell_type": "code",
      "execution_count": null,
      "id": "04248625",
      "metadata": {
        "id": "04248625"
      },
      "outputs": [],
      "source": [
        "#The id column does not add any information\n",
        "del data['id']"
      ]
    },
    {
      "cell_type": "code",
      "execution_count": null,
      "id": "91f39552",
      "metadata": {
        "id": "91f39552",
        "outputId": "28199b29-cdfc-467d-81ba-1fc0bbb8e6dc"
      },
      "outputs": [
        {
          "name": "stdout",
          "output_type": "stream",
          "text": [
            "['circle_id', 'loc_og_t2o_mou', 'std_og_t2o_mou', 'loc_ic_t2o_mou', 'last_date_of_month_6', 'last_date_of_month_7', 'last_date_of_month_8', 'std_og_t2c_mou_6', 'std_og_t2c_mou_7', 'std_og_t2c_mou_8', 'std_ic_t2o_mou_6', 'std_ic_t2o_mou_7', 'std_ic_t2o_mou_8']\n"
          ]
        }
      ],
      "source": [
        "#Remove all the columns that do not add any variance, i.e columns that have only one unique value\n",
        "unique_1_col=[]\n",
        "for i in data.columns:\n",
        "    if data[i].nunique() == 1:\n",
        "        unique_1_col.append(i)\n",
        "\n",
        "data.drop(unique_1_col, axis=1, inplace = True)\n",
        "print(unique_1_col)"
      ]
    },
    {
      "cell_type": "code",
      "execution_count": null,
      "id": "9da30bec",
      "metadata": {
        "id": "9da30bec",
        "outputId": "e722d716-6f1a-494a-878a-f3c15e1340b1"
      },
      "outputs": [
        {
          "data": {
            "text/html": [
              "<div>\n",
              "<style scoped>\n",
              "    .dataframe tbody tr th:only-of-type {\n",
              "        vertical-align: middle;\n",
              "    }\n",
              "\n",
              "    .dataframe tbody tr th {\n",
              "        vertical-align: top;\n",
              "    }\n",
              "\n",
              "    .dataframe thead th {\n",
              "        text-align: right;\n",
              "    }\n",
              "</style>\n",
              "<table border=\"1\" class=\"dataframe\">\n",
              "  <thead>\n",
              "    <tr style=\"text-align: right;\">\n",
              "      <th></th>\n",
              "      <th>Variable</th>\n",
              "      <th>Missing_percent</th>\n",
              "    </tr>\n",
              "  </thead>\n",
              "  <tbody>\n",
              "    <tr>\n",
              "      <th>0</th>\n",
              "      <td>av_rech_amt_data_6</td>\n",
              "      <td>74.902499</td>\n",
              "    </tr>\n",
              "    <tr>\n",
              "      <th>1</th>\n",
              "      <td>count_rech_3g_6</td>\n",
              "      <td>74.902499</td>\n",
              "    </tr>\n",
              "    <tr>\n",
              "      <th>2</th>\n",
              "      <td>arpu_3g_6</td>\n",
              "      <td>74.902499</td>\n",
              "    </tr>\n",
              "    <tr>\n",
              "      <th>3</th>\n",
              "      <td>arpu_2g_6</td>\n",
              "      <td>74.902499</td>\n",
              "    </tr>\n",
              "    <tr>\n",
              "      <th>4</th>\n",
              "      <td>max_rech_data_6</td>\n",
              "      <td>74.902499</td>\n",
              "    </tr>\n",
              "    <tr>\n",
              "      <th>...</th>\n",
              "      <td>...</td>\n",
              "      <td>...</td>\n",
              "    </tr>\n",
              "    <tr>\n",
              "      <th>153</th>\n",
              "      <td>vol_2g_mb_6</td>\n",
              "      <td>0.000000</td>\n",
              "    </tr>\n",
              "    <tr>\n",
              "      <th>154</th>\n",
              "      <td>vol_2g_mb_7</td>\n",
              "      <td>0.000000</td>\n",
              "    </tr>\n",
              "    <tr>\n",
              "      <th>155</th>\n",
              "      <td>vol_2g_mb_8</td>\n",
              "      <td>0.000000</td>\n",
              "    </tr>\n",
              "    <tr>\n",
              "      <th>156</th>\n",
              "      <td>vol_3g_mb_6</td>\n",
              "      <td>0.000000</td>\n",
              "    </tr>\n",
              "    <tr>\n",
              "      <th>157</th>\n",
              "      <td>churn_probability</td>\n",
              "      <td>0.000000</td>\n",
              "    </tr>\n",
              "  </tbody>\n",
              "</table>\n",
              "<p>158 rows × 2 columns</p>\n",
              "</div>"
            ],
            "text/plain": [
              "               Variable  Missing_percent\n",
              "0    av_rech_amt_data_6        74.902499\n",
              "1       count_rech_3g_6        74.902499\n",
              "2             arpu_3g_6        74.902499\n",
              "3             arpu_2g_6        74.902499\n",
              "4       max_rech_data_6        74.902499\n",
              "..                  ...              ...\n",
              "153         vol_2g_mb_6         0.000000\n",
              "154         vol_2g_mb_7         0.000000\n",
              "155         vol_2g_mb_8         0.000000\n",
              "156         vol_3g_mb_6         0.000000\n",
              "157   churn_probability         0.000000\n",
              "\n",
              "[158 rows x 2 columns]"
            ]
          },
          "execution_count": 9,
          "metadata": {},
          "output_type": "execute_result"
        }
      ],
      "source": [
        "#Check the amount of missing values in columns in percentage\n",
        "missing_percent = (data.isnull().sum()/len(data.index)).sort_values(ascending=False)*100\n",
        "missing_percent = missing_percent.reset_index()\n",
        "missing_percent = missing_percent.rename({'index': 'Variable', 0: 'Missing_percent'}, axis=1)\n",
        "missing_percent"
      ]
    },
    {
      "cell_type": "code",
      "execution_count": null,
      "id": "07e460b0",
      "metadata": {
        "id": "07e460b0",
        "outputId": "5a341b04-b6cd-4443-fb70-9be9cfe1c485"
      },
      "outputs": [
        {
          "data": {
            "text/html": [
              "<div>\n",
              "<style scoped>\n",
              "    .dataframe tbody tr th:only-of-type {\n",
              "        vertical-align: middle;\n",
              "    }\n",
              "\n",
              "    .dataframe tbody tr th {\n",
              "        vertical-align: top;\n",
              "    }\n",
              "\n",
              "    .dataframe thead th {\n",
              "        text-align: right;\n",
              "    }\n",
              "</style>\n",
              "<table border=\"1\" class=\"dataframe\">\n",
              "  <thead>\n",
              "    <tr style=\"text-align: right;\">\n",
              "      <th></th>\n",
              "      <th>Variable</th>\n",
              "      <th>Missing_percent</th>\n",
              "    </tr>\n",
              "  </thead>\n",
              "  <tbody>\n",
              "    <tr>\n",
              "      <th>0</th>\n",
              "      <td>av_rech_amt_data_6</td>\n",
              "      <td>74.902499</td>\n",
              "    </tr>\n",
              "    <tr>\n",
              "      <th>1</th>\n",
              "      <td>count_rech_3g_6</td>\n",
              "      <td>74.902499</td>\n",
              "    </tr>\n",
              "    <tr>\n",
              "      <th>2</th>\n",
              "      <td>arpu_3g_6</td>\n",
              "      <td>74.902499</td>\n",
              "    </tr>\n",
              "    <tr>\n",
              "      <th>3</th>\n",
              "      <td>arpu_2g_6</td>\n",
              "      <td>74.902499</td>\n",
              "    </tr>\n",
              "    <tr>\n",
              "      <th>4</th>\n",
              "      <td>max_rech_data_6</td>\n",
              "      <td>74.902499</td>\n",
              "    </tr>\n",
              "    <tr>\n",
              "      <th>5</th>\n",
              "      <td>night_pck_user_6</td>\n",
              "      <td>74.902499</td>\n",
              "    </tr>\n",
              "    <tr>\n",
              "      <th>6</th>\n",
              "      <td>count_rech_2g_6</td>\n",
              "      <td>74.902499</td>\n",
              "    </tr>\n",
              "    <tr>\n",
              "      <th>7</th>\n",
              "      <td>date_of_last_rech_data_6</td>\n",
              "      <td>74.902499</td>\n",
              "    </tr>\n",
              "    <tr>\n",
              "      <th>8</th>\n",
              "      <td>total_rech_data_6</td>\n",
              "      <td>74.902499</td>\n",
              "    </tr>\n",
              "    <tr>\n",
              "      <th>9</th>\n",
              "      <td>fb_user_6</td>\n",
              "      <td>74.902499</td>\n",
              "    </tr>\n",
              "    <tr>\n",
              "      <th>10</th>\n",
              "      <td>max_rech_data_7</td>\n",
              "      <td>74.478207</td>\n",
              "    </tr>\n",
              "    <tr>\n",
              "      <th>11</th>\n",
              "      <td>date_of_last_rech_data_7</td>\n",
              "      <td>74.478207</td>\n",
              "    </tr>\n",
              "    <tr>\n",
              "      <th>12</th>\n",
              "      <td>count_rech_2g_7</td>\n",
              "      <td>74.478207</td>\n",
              "    </tr>\n",
              "    <tr>\n",
              "      <th>13</th>\n",
              "      <td>arpu_3g_7</td>\n",
              "      <td>74.478207</td>\n",
              "    </tr>\n",
              "    <tr>\n",
              "      <th>14</th>\n",
              "      <td>count_rech_3g_7</td>\n",
              "      <td>74.478207</td>\n",
              "    </tr>\n",
              "    <tr>\n",
              "      <th>15</th>\n",
              "      <td>av_rech_amt_data_7</td>\n",
              "      <td>74.478207</td>\n",
              "    </tr>\n",
              "    <tr>\n",
              "      <th>16</th>\n",
              "      <td>fb_user_7</td>\n",
              "      <td>74.478207</td>\n",
              "    </tr>\n",
              "    <tr>\n",
              "      <th>17</th>\n",
              "      <td>night_pck_user_7</td>\n",
              "      <td>74.478207</td>\n",
              "    </tr>\n",
              "    <tr>\n",
              "      <th>18</th>\n",
              "      <td>arpu_2g_7</td>\n",
              "      <td>74.478207</td>\n",
              "    </tr>\n",
              "    <tr>\n",
              "      <th>19</th>\n",
              "      <td>total_rech_data_7</td>\n",
              "      <td>74.478207</td>\n",
              "    </tr>\n",
              "    <tr>\n",
              "      <th>20</th>\n",
              "      <td>fb_user_8</td>\n",
              "      <td>73.689624</td>\n",
              "    </tr>\n",
              "    <tr>\n",
              "      <th>21</th>\n",
              "      <td>arpu_3g_8</td>\n",
              "      <td>73.689624</td>\n",
              "    </tr>\n",
              "    <tr>\n",
              "      <th>22</th>\n",
              "      <td>date_of_last_rech_data_8</td>\n",
              "      <td>73.689624</td>\n",
              "    </tr>\n",
              "    <tr>\n",
              "      <th>23</th>\n",
              "      <td>total_rech_data_8</td>\n",
              "      <td>73.689624</td>\n",
              "    </tr>\n",
              "    <tr>\n",
              "      <th>24</th>\n",
              "      <td>count_rech_2g_8</td>\n",
              "      <td>73.689624</td>\n",
              "    </tr>\n",
              "    <tr>\n",
              "      <th>25</th>\n",
              "      <td>count_rech_3g_8</td>\n",
              "      <td>73.689624</td>\n",
              "    </tr>\n",
              "    <tr>\n",
              "      <th>26</th>\n",
              "      <td>av_rech_amt_data_8</td>\n",
              "      <td>73.689624</td>\n",
              "    </tr>\n",
              "    <tr>\n",
              "      <th>27</th>\n",
              "      <td>night_pck_user_8</td>\n",
              "      <td>73.689624</td>\n",
              "    </tr>\n",
              "    <tr>\n",
              "      <th>28</th>\n",
              "      <td>max_rech_data_8</td>\n",
              "      <td>73.689624</td>\n",
              "    </tr>\n",
              "    <tr>\n",
              "      <th>29</th>\n",
              "      <td>arpu_2g_8</td>\n",
              "      <td>73.689624</td>\n",
              "    </tr>\n",
              "  </tbody>\n",
              "</table>\n",
              "</div>"
            ],
            "text/plain": [
              "                    Variable  Missing_percent\n",
              "0         av_rech_amt_data_6        74.902499\n",
              "1            count_rech_3g_6        74.902499\n",
              "2                  arpu_3g_6        74.902499\n",
              "3                  arpu_2g_6        74.902499\n",
              "4            max_rech_data_6        74.902499\n",
              "5           night_pck_user_6        74.902499\n",
              "6            count_rech_2g_6        74.902499\n",
              "7   date_of_last_rech_data_6        74.902499\n",
              "8          total_rech_data_6        74.902499\n",
              "9                  fb_user_6        74.902499\n",
              "10           max_rech_data_7        74.478207\n",
              "11  date_of_last_rech_data_7        74.478207\n",
              "12           count_rech_2g_7        74.478207\n",
              "13                 arpu_3g_7        74.478207\n",
              "14           count_rech_3g_7        74.478207\n",
              "15        av_rech_amt_data_7        74.478207\n",
              "16                 fb_user_7        74.478207\n",
              "17          night_pck_user_7        74.478207\n",
              "18                 arpu_2g_7        74.478207\n",
              "19         total_rech_data_7        74.478207\n",
              "20                 fb_user_8        73.689624\n",
              "21                 arpu_3g_8        73.689624\n",
              "22  date_of_last_rech_data_8        73.689624\n",
              "23         total_rech_data_8        73.689624\n",
              "24           count_rech_2g_8        73.689624\n",
              "25           count_rech_3g_8        73.689624\n",
              "26        av_rech_amt_data_8        73.689624\n",
              "27          night_pck_user_8        73.689624\n",
              "28           max_rech_data_8        73.689624\n",
              "29                 arpu_2g_8        73.689624"
            ]
          },
          "execution_count": 10,
          "metadata": {},
          "output_type": "execute_result"
        }
      ],
      "source": [
        "#Look at columns with more than 10 percent data missing\n",
        "missing_percent_10 = missing_percent[missing_percent['Missing_percent']>10]\n",
        "missing_percent_10"
      ]
    },
    {
      "cell_type": "code",
      "execution_count": null,
      "id": "90e09ff0",
      "metadata": {
        "id": "90e09ff0"
      },
      "outputs": [],
      "source": [
        "#Remove all columns missing more than 10 percent data as it will not be useful\n",
        "for i in missing_percent_10['Variable']:\n",
        "    del data[i]"
      ]
    },
    {
      "cell_type": "code",
      "execution_count": null,
      "id": "3d01ebb8",
      "metadata": {
        "id": "3d01ebb8",
        "outputId": "87a20d1e-286c-4dee-9145-d6528f60ff41"
      },
      "outputs": [
        {
          "data": {
            "text/html": [
              "<div>\n",
              "<style scoped>\n",
              "    .dataframe tbody tr th:only-of-type {\n",
              "        vertical-align: middle;\n",
              "    }\n",
              "\n",
              "    .dataframe tbody tr th {\n",
              "        vertical-align: top;\n",
              "    }\n",
              "\n",
              "    .dataframe thead th {\n",
              "        text-align: right;\n",
              "    }\n",
              "</style>\n",
              "<table border=\"1\" class=\"dataframe\">\n",
              "  <thead>\n",
              "    <tr style=\"text-align: right;\">\n",
              "      <th></th>\n",
              "      <th>0</th>\n",
              "    </tr>\n",
              "  </thead>\n",
              "  <tbody>\n",
              "    <tr>\n",
              "      <th>isd_og_mou_8</th>\n",
              "      <td>5.290076</td>\n",
              "    </tr>\n",
              "    <tr>\n",
              "      <th>std_ic_t2m_mou_8</th>\n",
              "      <td>5.290076</td>\n",
              "    </tr>\n",
              "    <tr>\n",
              "      <th>std_ic_t2f_mou_8</th>\n",
              "      <td>5.290076</td>\n",
              "    </tr>\n",
              "    <tr>\n",
              "      <th>std_og_t2f_mou_8</th>\n",
              "      <td>5.290076</td>\n",
              "    </tr>\n",
              "    <tr>\n",
              "      <th>std_og_t2t_mou_8</th>\n",
              "      <td>5.290076</td>\n",
              "    </tr>\n",
              "    <tr>\n",
              "      <th>loc_ic_t2f_mou_8</th>\n",
              "      <td>5.290076</td>\n",
              "    </tr>\n",
              "    <tr>\n",
              "      <th>loc_og_mou_8</th>\n",
              "      <td>5.290076</td>\n",
              "    </tr>\n",
              "    <tr>\n",
              "      <th>std_ic_mou_8</th>\n",
              "      <td>5.290076</td>\n",
              "    </tr>\n",
              "    <tr>\n",
              "      <th>loc_og_t2c_mou_8</th>\n",
              "      <td>5.290076</td>\n",
              "    </tr>\n",
              "    <tr>\n",
              "      <th>std_og_mou_8</th>\n",
              "      <td>5.290076</td>\n",
              "    </tr>\n",
              "    <tr>\n",
              "      <th>loc_og_t2f_mou_8</th>\n",
              "      <td>5.290076</td>\n",
              "    </tr>\n",
              "    <tr>\n",
              "      <th>loc_ic_mou_8</th>\n",
              "      <td>5.290076</td>\n",
              "    </tr>\n",
              "    <tr>\n",
              "      <th>loc_og_t2m_mou_8</th>\n",
              "      <td>5.290076</td>\n",
              "    </tr>\n",
              "    <tr>\n",
              "      <th>spl_ic_mou_8</th>\n",
              "      <td>5.290076</td>\n",
              "    </tr>\n",
              "    <tr>\n",
              "      <th>loc_og_t2t_mou_8</th>\n",
              "      <td>5.290076</td>\n",
              "    </tr>\n",
              "    <tr>\n",
              "      <th>std_og_t2m_mou_8</th>\n",
              "      <td>5.290076</td>\n",
              "    </tr>\n",
              "    <tr>\n",
              "      <th>offnet_mou_8</th>\n",
              "      <td>5.290076</td>\n",
              "    </tr>\n",
              "    <tr>\n",
              "      <th>og_others_8</th>\n",
              "      <td>5.290076</td>\n",
              "    </tr>\n",
              "    <tr>\n",
              "      <th>ic_others_8</th>\n",
              "      <td>5.290076</td>\n",
              "    </tr>\n",
              "    <tr>\n",
              "      <th>loc_ic_t2m_mou_8</th>\n",
              "      <td>5.290076</td>\n",
              "    </tr>\n",
              "  </tbody>\n",
              "</table>\n",
              "</div>"
            ],
            "text/plain": [
              "                         0\n",
              "isd_og_mou_8      5.290076\n",
              "std_ic_t2m_mou_8  5.290076\n",
              "std_ic_t2f_mou_8  5.290076\n",
              "std_og_t2f_mou_8  5.290076\n",
              "std_og_t2t_mou_8  5.290076\n",
              "loc_ic_t2f_mou_8  5.290076\n",
              "loc_og_mou_8      5.290076\n",
              "std_ic_mou_8      5.290076\n",
              "loc_og_t2c_mou_8  5.290076\n",
              "std_og_mou_8      5.290076\n",
              "loc_og_t2f_mou_8  5.290076\n",
              "loc_ic_mou_8      5.290076\n",
              "loc_og_t2m_mou_8  5.290076\n",
              "spl_ic_mou_8      5.290076\n",
              "loc_og_t2t_mou_8  5.290076\n",
              "std_og_t2m_mou_8  5.290076\n",
              "offnet_mou_8      5.290076\n",
              "og_others_8       5.290076\n",
              "ic_others_8       5.290076\n",
              "loc_ic_t2m_mou_8  5.290076"
            ]
          },
          "execution_count": 12,
          "metadata": {},
          "output_type": "execute_result"
        }
      ],
      "source": [
        "pd.DataFrame((data.isnull().sum()/len(data.index)).sort_values(ascending=False)*100).head(20)"
      ]
    },
    {
      "cell_type": "code",
      "execution_count": null,
      "id": "32ebe215",
      "metadata": {
        "id": "32ebe215",
        "outputId": "72e10d7b-1444-4030-ac99-baa2f3f390fd"
      },
      "outputs": [
        {
          "name": "stdout",
          "output_type": "stream",
          "text": [
            "<class 'pandas.core.frame.DataFrame'>\n",
            "RangeIndex: 69999 entries, 0 to 69998\n",
            "Data columns (total 128 columns):\n",
            " #    Column               Dtype  \n",
            "---   ------               -----  \n",
            " 0    arpu_6               float64\n",
            " 1    arpu_7               float64\n",
            " 2    arpu_8               float64\n",
            " 3    onnet_mou_6          float64\n",
            " 4    onnet_mou_7          float64\n",
            " 5    onnet_mou_8          float64\n",
            " 6    offnet_mou_6         float64\n",
            " 7    offnet_mou_7         float64\n",
            " 8    offnet_mou_8         float64\n",
            " 9    roam_ic_mou_6        float64\n",
            " 10   roam_ic_mou_7        float64\n",
            " 11   roam_ic_mou_8        float64\n",
            " 12   roam_og_mou_6        float64\n",
            " 13   roam_og_mou_7        float64\n",
            " 14   roam_og_mou_8        float64\n",
            " 15   loc_og_t2t_mou_6     float64\n",
            " 16   loc_og_t2t_mou_7     float64\n",
            " 17   loc_og_t2t_mou_8     float64\n",
            " 18   loc_og_t2m_mou_6     float64\n",
            " 19   loc_og_t2m_mou_7     float64\n",
            " 20   loc_og_t2m_mou_8     float64\n",
            " 21   loc_og_t2f_mou_6     float64\n",
            " 22   loc_og_t2f_mou_7     float64\n",
            " 23   loc_og_t2f_mou_8     float64\n",
            " 24   loc_og_t2c_mou_6     float64\n",
            " 25   loc_og_t2c_mou_7     float64\n",
            " 26   loc_og_t2c_mou_8     float64\n",
            " 27   loc_og_mou_6         float64\n",
            " 28   loc_og_mou_7         float64\n",
            " 29   loc_og_mou_8         float64\n",
            " 30   std_og_t2t_mou_6     float64\n",
            " 31   std_og_t2t_mou_7     float64\n",
            " 32   std_og_t2t_mou_8     float64\n",
            " 33   std_og_t2m_mou_6     float64\n",
            " 34   std_og_t2m_mou_7     float64\n",
            " 35   std_og_t2m_mou_8     float64\n",
            " 36   std_og_t2f_mou_6     float64\n",
            " 37   std_og_t2f_mou_7     float64\n",
            " 38   std_og_t2f_mou_8     float64\n",
            " 39   std_og_mou_6         float64\n",
            " 40   std_og_mou_7         float64\n",
            " 41   std_og_mou_8         float64\n",
            " 42   isd_og_mou_6         float64\n",
            " 43   isd_og_mou_7         float64\n",
            " 44   isd_og_mou_8         float64\n",
            " 45   spl_og_mou_6         float64\n",
            " 46   spl_og_mou_7         float64\n",
            " 47   spl_og_mou_8         float64\n",
            " 48   og_others_6          float64\n",
            " 49   og_others_7          float64\n",
            " 50   og_others_8          float64\n",
            " 51   total_og_mou_6       float64\n",
            " 52   total_og_mou_7       float64\n",
            " 53   total_og_mou_8       float64\n",
            " 54   loc_ic_t2t_mou_6     float64\n",
            " 55   loc_ic_t2t_mou_7     float64\n",
            " 56   loc_ic_t2t_mou_8     float64\n",
            " 57   loc_ic_t2m_mou_6     float64\n",
            " 58   loc_ic_t2m_mou_7     float64\n",
            " 59   loc_ic_t2m_mou_8     float64\n",
            " 60   loc_ic_t2f_mou_6     float64\n",
            " 61   loc_ic_t2f_mou_7     float64\n",
            " 62   loc_ic_t2f_mou_8     float64\n",
            " 63   loc_ic_mou_6         float64\n",
            " 64   loc_ic_mou_7         float64\n",
            " 65   loc_ic_mou_8         float64\n",
            " 66   std_ic_t2t_mou_6     float64\n",
            " 67   std_ic_t2t_mou_7     float64\n",
            " 68   std_ic_t2t_mou_8     float64\n",
            " 69   std_ic_t2m_mou_6     float64\n",
            " 70   std_ic_t2m_mou_7     float64\n",
            " 71   std_ic_t2m_mou_8     float64\n",
            " 72   std_ic_t2f_mou_6     float64\n",
            " 73   std_ic_t2f_mou_7     float64\n",
            " 74   std_ic_t2f_mou_8     float64\n",
            " 75   std_ic_mou_6         float64\n",
            " 76   std_ic_mou_7         float64\n",
            " 77   std_ic_mou_8         float64\n",
            " 78   total_ic_mou_6       float64\n",
            " 79   total_ic_mou_7       float64\n",
            " 80   total_ic_mou_8       float64\n",
            " 81   spl_ic_mou_6         float64\n",
            " 82   spl_ic_mou_7         float64\n",
            " 83   spl_ic_mou_8         float64\n",
            " 84   isd_ic_mou_6         float64\n",
            " 85   isd_ic_mou_7         float64\n",
            " 86   isd_ic_mou_8         float64\n",
            " 87   ic_others_6          float64\n",
            " 88   ic_others_7          float64\n",
            " 89   ic_others_8          float64\n",
            " 90   total_rech_num_6     int64  \n",
            " 91   total_rech_num_7     int64  \n",
            " 92   total_rech_num_8     int64  \n",
            " 93   total_rech_amt_6     int64  \n",
            " 94   total_rech_amt_7     int64  \n",
            " 95   total_rech_amt_8     int64  \n",
            " 96   max_rech_amt_6       int64  \n",
            " 97   max_rech_amt_7       int64  \n",
            " 98   max_rech_amt_8       int64  \n",
            " 99   date_of_last_rech_6  object \n",
            " 100  date_of_last_rech_7  object \n",
            " 101  date_of_last_rech_8  object \n",
            " 102  last_day_rch_amt_6   int64  \n",
            " 103  last_day_rch_amt_7   int64  \n",
            " 104  last_day_rch_amt_8   int64  \n",
            " 105  vol_2g_mb_6          float64\n",
            " 106  vol_2g_mb_7          float64\n",
            " 107  vol_2g_mb_8          float64\n",
            " 108  vol_3g_mb_6          float64\n",
            " 109  vol_3g_mb_7          float64\n",
            " 110  vol_3g_mb_8          float64\n",
            " 111  monthly_2g_6         int64  \n",
            " 112  monthly_2g_7         int64  \n",
            " 113  monthly_2g_8         int64  \n",
            " 114  sachet_2g_6          int64  \n",
            " 115  sachet_2g_7          int64  \n",
            " 116  sachet_2g_8          int64  \n",
            " 117  monthly_3g_6         int64  \n",
            " 118  monthly_3g_7         int64  \n",
            " 119  monthly_3g_8         int64  \n",
            " 120  sachet_3g_6          int64  \n",
            " 121  sachet_3g_7          int64  \n",
            " 122  sachet_3g_8          int64  \n",
            " 123  aon                  int64  \n",
            " 124  aug_vbc_3g           float64\n",
            " 125  jul_vbc_3g           float64\n",
            " 126  jun_vbc_3g           float64\n",
            " 127  churn_probability    int64  \n",
            "dtypes: float64(99), int64(26), object(3)\n",
            "memory usage: 68.4+ MB\n"
          ]
        }
      ],
      "source": [
        "#Get more information about the data and columns and their datatypes\n",
        "data.info(verbose=2)"
      ]
    },
    {
      "cell_type": "code",
      "execution_count": null,
      "id": "b03ce606",
      "metadata": {
        "id": "b03ce606"
      },
      "outputs": [],
      "source": [
        "#Get lists of object columns and columns with continuous data.\n",
        "object_columns = []\n",
        "continuous_columns = []\n",
        "\n",
        "\n",
        "for column in data.columns:\n",
        "    if data.dtypes[column] == 'object':\n",
        "        object_columns.append(column)\n",
        "\n",
        "for column in data.columns:\n",
        "    if data.dtypes[column] != 'object':\n",
        "        continuous_columns.append(column)"
      ]
    },
    {
      "cell_type": "code",
      "execution_count": null,
      "id": "6923ad58",
      "metadata": {
        "id": "6923ad58",
        "outputId": "863ca6d9-fe04-429d-d35a-d191faf7f948"
      },
      "outputs": [
        {
          "data": {
            "text/plain": [
              "['date_of_last_rech_6', 'date_of_last_rech_7', 'date_of_last_rech_8']"
            ]
          },
          "execution_count": 15,
          "metadata": {},
          "output_type": "execute_result"
        }
      ],
      "source": [
        "#View Object Columns\n",
        "object_columns\n",
        "\n",
        "#It appears that the object columns is all dates"
      ]
    },
    {
      "cell_type": "code",
      "execution_count": null,
      "id": "0702f1fe",
      "metadata": {
        "id": "0702f1fe"
      },
      "outputs": [],
      "source": [
        "#Convert the object columns to datetime format\n",
        "for i in object_columns:\n",
        "    data[i] = pd.to_datetime(data[i])"
      ]
    },
    {
      "cell_type": "code",
      "execution_count": null,
      "id": "5e6d0d25",
      "metadata": {
        "id": "5e6d0d25"
      },
      "outputs": [],
      "source": [
        "#Convert the date time to days. This is the nomber of days since the most recent datetime in that particular column\n",
        "for i in object_columns:\n",
        "    data[i] = data[i].max() - data[i]\n",
        "    data[i] = data[i].dt.days"
      ]
    },
    {
      "cell_type": "markdown",
      "id": "144c16bf",
      "metadata": {
        "id": "144c16bf"
      },
      "source": [
        "# Part 4: Handling missing Data and preparing it to build models"
      ]
    },
    {
      "cell_type": "code",
      "execution_count": null,
      "id": "dce441b5",
      "metadata": {
        "scrolled": true,
        "id": "dce441b5",
        "outputId": "f7490a1b-6187-44e8-c5b8-3af3ed58d7be"
      },
      "outputs": [
        {
          "data": {
            "text/plain": [
              "((55999, 127), (14000, 127), (55999,), (14000,))"
            ]
          },
          "execution_count": 18,
          "metadata": {},
          "output_type": "execute_result"
        }
      ],
      "source": [
        "# Split the data into train and test\n",
        "X = data.iloc[:,:-1]\n",
        "y = data.iloc[:,-1]\n",
        "\n",
        "\n",
        "X_train, X_test, y_train, y_test = train_test_split(X, y, test_size=0.2)\n",
        "\n",
        "X_train.shape, X_test.shape, y_train.shape, y_test.shape"
      ]
    },
    {
      "cell_type": "code",
      "execution_count": null,
      "id": "855f7429",
      "metadata": {
        "id": "855f7429"
      },
      "outputs": [],
      "source": [
        "#Fill the missing values with the median\n",
        "missing_data_percent = X_train.isnull().any()\n",
        "impute_cols = missing_data_percent[missing_data_percent.gt(0)].index\n",
        "impute_cols\n",
        "\n",
        "imp = SimpleImputer(strategy='median')\n",
        "X_train[impute_cols] = imp.fit_transform(X_train[impute_cols])"
      ]
    },
    {
      "cell_type": "code",
      "execution_count": null,
      "id": "d787648e",
      "metadata": {
        "id": "d787648e"
      },
      "outputs": [],
      "source": [
        "#Fill the missing data in the test set with the median\n",
        "missing_data_percent = X_test.isnull().any()\n",
        "impute_cols = missing_data_percent[missing_data_percent.gt(0)].index\n",
        "impute_cols\n",
        "\n",
        "imp = SimpleImputer(strategy='median')\n",
        "X_test[impute_cols] = imp.fit_transform(X_test[impute_cols])"
      ]
    },
    {
      "cell_type": "code",
      "execution_count": null,
      "id": "cb0ea726",
      "metadata": {
        "id": "cb0ea726",
        "outputId": "01446ec3-2336-4f46-bd2a-5e324b538488"
      },
      "outputs": [
        {
          "data": {
            "text/plain": [
              "<AxesSubplot:>"
            ]
          },
          "execution_count": 21,
          "metadata": {},
          "output_type": "execute_result"
        },
        {
          "data": {
            "image/png": "[encoded data removed]",
            "text/plain": [
              "<Figure size 1080x576 with 1 Axes>"
            ]
          },
          "metadata": {
            "needs_background": "light"
          },
          "output_type": "display_data"
        }
      ],
      "source": [
        "#Visualize the data with box plots\n",
        "plt.figure(figsize=(15,8))\n",
        "plt.xticks(rotation=90)\n",
        "sns.boxplot(data = X_train)\n",
        "\n",
        "#Here it can be seen that there are many outliers present in the data"
      ]
    },
    {
      "cell_type": "code",
      "execution_count": null,
      "id": "8b59a6b3",
      "metadata": {
        "id": "8b59a6b3"
      },
      "outputs": [],
      "source": [
        "#Function to remove Outliers\n",
        "def cap_outliers(array, k=4):\n",
        "    upper_limit = array.mean() + k*array.std()\n",
        "    lower_limit = array.mean() - k*array.std()\n",
        "    array[array<lower_limit] = lower_limit\n",
        "    array[array>upper_limit] = upper_limit\n",
        "    return array"
      ]
    },
    {
      "cell_type": "code",
      "execution_count": null,
      "id": "056823ea",
      "metadata": {
        "id": "056823ea",
        "outputId": "9efb3f82-0b1e-416e-9081-37309e2dea75"
      },
      "outputs": [
        {
          "data": {
            "text/plain": [
              "<AxesSubplot:>"
            ]
          },
          "execution_count": 23,
          "metadata": {},
          "output_type": "execute_result"
        },
        {
          "data": {
            "image/png": "[encoded data removed]",
            "text/plain": [
              "<Figure size 1080x576 with 1 Axes>"
            ]
          },
          "metadata": {
            "needs_background": "light"
          },
          "output_type": "display_data"
        }
      ],
      "source": [
        "#Remove the Outliers from the data\n",
        "X_train_outliers_removed = X_train.apply(cap_outliers, axis=0)\n",
        "\n",
        "plt.figure(figsize=(15,8))\n",
        "plt.xticks(rotation=90)\n",
        "sns.boxplot(data = X_train_outliers_removed)\n",
        "\n",
        "#From the plot below we can see that the data is not scaled, we need ot sclae in order to make sure all variable have equal weights"
      ]
    },
    {
      "cell_type": "code",
      "execution_count": null,
      "id": "1eb5b06a",
      "metadata": {
        "id": "1eb5b06a"
      },
      "outputs": [],
      "source": [
        "#Scale the Data with Satandard Scaler\n",
        "scale = StandardScaler()\n",
        "X_train_scaled = scale.fit_transform(X_train_outliers_removed)\n",
        "X_test_scaled = scale.transform(X_test)"
      ]
    },
    {
      "cell_type": "code",
      "execution_count": null,
      "id": "68405420",
      "metadata": {
        "id": "68405420",
        "outputId": "88c95fc3-989d-4ace-8699-6d4854c79378"
      },
      "outputs": [
        {
          "data": {
            "text/plain": [
              "<AxesSubplot:>"
            ]
          },
          "execution_count": 25,
          "metadata": {},
          "output_type": "execute_result"
        },
        {
          "data": {
            "image/png": "[encoded data removed]",
            "text/plain": [
              "<Figure size 1080x576 with 1 Axes>"
            ]
          },
          "metadata": {
            "needs_background": "light"
          },
          "output_type": "display_data"
        }
      ],
      "source": [
        "#Plot scaled data\n",
        "plt.figure(figsize=(15,8))\n",
        "plt.xticks(rotation=90)\n",
        "sns.boxplot(data = X_train_scaled)\n",
        "\n",
        "#From the data below we can see that the data is much more uniform"
      ]
    },
    {
      "cell_type": "markdown",
      "id": "fa4205be",
      "metadata": {
        "scrolled": true,
        "id": "fa4205be"
      },
      "source": [
        "# Part 5: Building Models"
      ]
    },
    {
      "cell_type": "markdown",
      "id": "d4a1ac0c",
      "metadata": {
        "id": "d4a1ac0c"
      },
      "source": [
        "### The first model we will build is a Random Forests"
      ]
    },
    {
      "cell_type": "code",
      "execution_count": null,
      "id": "cd40827c",
      "metadata": {
        "id": "cd40827c",
        "outputId": "b4057245-a683-4de6-e8ee-7b10b6d855ad"
      },
      "outputs": [
        {
          "data": {
            "text/plain": [
              "LogisticRegression(max_iter=1000, solver='sag', tol=0.001)"
            ]
          },
          "execution_count": 26,
          "metadata": {},
          "output_type": "execute_result"
        }
      ],
      "source": [
        "#Build a Logistic Regression Model\n",
        "lr = LogisticRegression(max_iter=1000, tol=0.001, solver='sag')\n",
        "lr.fit(X_train_scaled, y_train)"
      ]
    },
    {
      "cell_type": "code",
      "execution_count": null,
      "id": "a97b76f1",
      "metadata": {
        "id": "a97b76f1",
        "outputId": "3b857891-38c7-459e-afc0-f56fabbdc125"
      },
      "outputs": [
        {
          "data": {
            "text/plain": [
              "0.9317309237664958"
            ]
          },
          "execution_count": 27,
          "metadata": {},
          "output_type": "execute_result"
        }
      ],
      "source": [
        "#Check the Training Score of the Model\n",
        "lr.score(X_train_scaled, y_train)"
      ]
    },
    {
      "cell_type": "code",
      "execution_count": null,
      "id": "53be194f",
      "metadata": {
        "scrolled": true,
        "id": "53be194f",
        "outputId": "7d09933a-2289-4ee5-94f5-f43b94cf3a8d"
      },
      "outputs": [
        {
          "data": {
            "text/plain": [
              "0.9257857142857143"
            ]
          },
          "execution_count": 28,
          "metadata": {},
          "output_type": "execute_result"
        }
      ],
      "source": [
        "#Test the Accuracy on Test Data\n",
        "lr.score(X_test_scaled, y_test)"
      ]
    },
    {
      "cell_type": "markdown",
      "id": "2d2f98d0",
      "metadata": {
        "id": "2d2f98d0"
      },
      "source": [
        "### The basing Logistic Regression Model has a really good train and test Score"
      ]
    },
    {
      "cell_type": "markdown",
      "id": "f19c6555",
      "metadata": {
        "id": "f19c6555"
      },
      "source": [
        "### The next Model we will build is a Random Forests"
      ]
    },
    {
      "cell_type": "code",
      "execution_count": null,
      "id": "a5709757",
      "metadata": {
        "id": "a5709757",
        "outputId": "e2ec2737-d7e6-4a85-86ae-0f2006ab7503"
      },
      "outputs": [
        {
          "data": {
            "text/plain": [
              "RandomForestClassifier(n_estimators=200, n_jobs=-1)"
            ]
          },
          "execution_count": 29,
          "metadata": {},
          "output_type": "execute_result"
        }
      ],
      "source": [
        "#Building Random Forest Model\n",
        "rf = RandomForestClassifier(n_estimators=200, n_jobs=-1)\n",
        "rf.fit(X_train_scaled, y_train)"
      ]
    },
    {
      "cell_type": "code",
      "execution_count": null,
      "id": "35658122",
      "metadata": {
        "id": "35658122",
        "outputId": "9a78a456-7c6e-4d3e-db7c-84ee150b6f6e"
      },
      "outputs": [
        {
          "data": {
            "text/plain": [
              "1.0"
            ]
          },
          "execution_count": 30,
          "metadata": {},
          "output_type": "execute_result"
        }
      ],
      "source": [
        "#The training Accuracy is 1, which is expected of Random Forests and Decision Trees\n",
        "rf.score(X_train_scaled, y_train)"
      ]
    },
    {
      "cell_type": "code",
      "execution_count": null,
      "id": "be1f03b2",
      "metadata": {
        "id": "be1f03b2",
        "outputId": "8d271b7a-45ec-43e7-9ff9-540508f2c865"
      },
      "outputs": [
        {
          "data": {
            "text/plain": [
              "0.9402142857142857"
            ]
          },
          "execution_count": 31,
          "metadata": {},
          "output_type": "execute_result"
        }
      ],
      "source": [
        "#Test the Accuracy on Test Data\n",
        "rf.score(X_test_scaled, y_test)"
      ]
    },
    {
      "cell_type": "code",
      "execution_count": null,
      "id": "6bc94b2f",
      "metadata": {
        "id": "6bc94b2f"
      },
      "outputs": [],
      "source": [
        "#Find the most important Features of the Random Forest\n",
        "feature_importances = pd.DataFrame({'col':X_train.columns, 'importance':rf.feature_importances_})"
      ]
    },
    {
      "cell_type": "code",
      "execution_count": null,
      "id": "689a2426",
      "metadata": {
        "id": "689a2426",
        "outputId": "056bfb72-f4c9-4260-d6ee-9f62932005fc"
      },
      "outputs": [
        {
          "data": {
            "text/plain": [
              "<BarContainer object of 127 artists>"
            ]
          },
          "execution_count": 33,
          "metadata": {},
          "output_type": "execute_result"
        },
        {
          "data": {
            "image/png": "[encoded data removed]",
            "text/plain": [
              "<Figure size 1080x576 with 1 Axes>"
            ]
          },
          "metadata": {
            "needs_background": "light"
          },
          "output_type": "display_data"
        }
      ],
      "source": [
        "plt.figure(figsize=(15,8))\n",
        "plt.xticks(rotation=90)\n",
        "plt.bar(feature_importances['col'], feature_importances['importance'])"
      ]
    },
    {
      "cell_type": "markdown",
      "id": "7f5a02dc",
      "metadata": {
        "id": "7f5a02dc"
      },
      "source": [
        "### The Random Forest did better than the Logistic Regression Model on the Test Data"
      ]
    },
    {
      "cell_type": "markdown",
      "id": "746ecbcf",
      "metadata": {
        "id": "746ecbcf"
      },
      "source": [
        "### Lets build a Boosing Model using XGBoost"
      ]
    },
    {
      "cell_type": "code",
      "execution_count": null,
      "id": "2744f508",
      "metadata": {
        "id": "2744f508",
        "outputId": "ea67352e-2bd9-403e-a9c3-728f1e4bfa1f"
      },
      "outputs": [
        {
          "name": "stdout",
          "output_type": "stream",
          "text": [
            "[20:30:34] WARNING: C:/Users/Administrator/workspace/xgboost-win64_release_1.5.1/src/learner.cc:1115: Starting in XGBoost 1.3.0, the default evaluation metric used with the objective 'binary:logistic' was changed from 'error' to 'logloss'. Explicitly set eval_metric if you'd like to restore the old behavior.\n"
          ]
        },
        {
          "data": {
            "text/plain": [
              "XGBClassifier(base_score=0.5, booster='gbtree', colsample_bylevel=1,\n",
              "              colsample_bynode=1, colsample_bytree=1, enable_categorical=False,\n",
              "              gamma=0, gpu_id=-1, importance_type=None,\n",
              "              interaction_constraints='', learning_rate=0.300000012,\n",
              "              max_delta_step=0, max_depth=6, min_child_weight=1, missing=nan,\n",
              "              monotone_constraints='()', n_estimators=100, n_jobs=-1,\n",
              "              num_parallel_tree=1, predictor='auto', random_state=0,\n",
              "              reg_alpha=0, reg_lambda=1, scale_pos_weight=1, subsample=1,\n",
              "              tree_method='exact', validate_parameters=1, verbosity=None)"
            ]
          },
          "execution_count": 34,
          "metadata": {},
          "output_type": "execute_result"
        }
      ],
      "source": [
        "xgb_classifier = xgb.XGBClassifier(n_jobs = -1, objective='binary:logistic')\n",
        "xgb_classifier.fit(X_train_scaled, y_train)"
      ]
    },
    {
      "cell_type": "code",
      "execution_count": null,
      "id": "8ee2bea8",
      "metadata": {
        "id": "8ee2bea8",
        "outputId": "734f5c82-3335-4560-cc9c-cc97f4dace1f"
      },
      "outputs": [
        {
          "data": {
            "text/plain": [
              "0.9812496651725924"
            ]
          },
          "execution_count": 35,
          "metadata": {},
          "output_type": "execute_result"
        }
      ],
      "source": [
        "xgb_classifier.score(X_train_scaled, y_train)"
      ]
    },
    {
      "cell_type": "code",
      "execution_count": null,
      "id": "fbb5b5b9",
      "metadata": {
        "id": "fbb5b5b9",
        "outputId": "5f067092-628b-42dc-e0b3-f5663967519b"
      },
      "outputs": [
        {
          "data": {
            "text/plain": [
              "0.9390714285714286"
            ]
          },
          "execution_count": 36,
          "metadata": {},
          "output_type": "execute_result"
        }
      ],
      "source": [
        "xgb_classifier.score(X_test_scaled, y_test)"
      ]
    },
    {
      "cell_type": "markdown",
      "id": "b5c8e1d9",
      "metadata": {
        "id": "b5c8e1d9"
      },
      "source": [
        "### The Boosting Model did better than the Logistic Regression Model but is on par with the Random Forests model"
      ]
    },
    {
      "cell_type": "markdown",
      "id": "1261a8d1",
      "metadata": {
        "id": "1261a8d1"
      },
      "source": [
        "## Now Lets try Usinc PCA and use only the most significant components"
      ]
    },
    {
      "cell_type": "code",
      "execution_count": null,
      "id": "5d6d2a39",
      "metadata": {
        "id": "5d6d2a39"
      },
      "outputs": [],
      "source": [
        "#Compute PCA and get the Components\n",
        "pca = PCA()\n",
        "pca_components = pca.fit_transform(X_train_scaled)"
      ]
    },
    {
      "cell_type": "code",
      "execution_count": null,
      "id": "cdab0e80",
      "metadata": {
        "id": "cdab0e80",
        "outputId": "2982561e-7b34-4145-cab3-ccc7b85672fc"
      },
      "outputs": [
        {
          "data": {
            "text/plain": [
              "<AxesSubplot:>"
            ]
          },
          "execution_count": 38,
          "metadata": {},
          "output_type": "execute_result"
        },
        {
          "data": {
            "image/png": "[encoded data removed]",
            "text/plain": [
              "<Figure size 432x288 with 1 Axes>"
            ]
          },
          "metadata": {
            "needs_background": "light"
          },
          "output_type": "display_data"
        }
      ],
      "source": [
        "sns.scatterplot(x=pca_components[:,0], y=pca_components[:,1], hue=y_train)"
      ]
    },
    {
      "cell_type": "code",
      "execution_count": null,
      "id": "69c33107",
      "metadata": {
        "id": "69c33107",
        "outputId": "f35db462-939c-4323-ce7c-c675c0697364"
      },
      "outputs": [
        {
          "data": {
            "text/plain": [
              "<AxesSubplot:>"
            ]
          },
          "execution_count": 39,
          "metadata": {},
          "output_type": "execute_result"
        },
        {
          "data": {
            "image/png": "[encoded data removed]",
            "text/plain": [
              "<Figure size 432x288 with 1 Axes>"
            ]
          },
          "metadata": {
            "needs_background": "light"
          },
          "output_type": "display_data"
        }
      ],
      "source": [
        "sns.scatterplot(x=pca_components[:,1], y=pca_components[:,2], hue=y_train)"
      ]
    },
    {
      "cell_type": "code",
      "execution_count": null,
      "id": "fc8e8991",
      "metadata": {
        "id": "fc8e8991",
        "outputId": "2fc621fb-409c-4b0f-c2aa-6f73bf82a33e"
      },
      "outputs": [
        {
          "data": {
            "text/plain": [
              "<AxesSubplot:>"
            ]
          },
          "execution_count": 40,
          "metadata": {},
          "output_type": "execute_result"
        },
        {
          "data": {
            "image/png": "[encoded data removed]",
            "text/plain": [
              "<Figure size 432x288 with 1 Axes>"
            ]
          },
          "metadata": {
            "needs_background": "light"
          },
          "output_type": "display_data"
        }
      ],
      "source": [
        "sns.scatterplot(x=pca_components[:,2], y=pca_components[:,3], hue=y_train)"
      ]
    },
    {
      "cell_type": "code",
      "execution_count": null,
      "id": "c1604c81",
      "metadata": {
        "id": "c1604c81"
      },
      "outputs": [],
      "source": []
    },
    {
      "cell_type": "markdown",
      "id": "ebe329d0",
      "metadata": {
        "id": "ebe329d0"
      },
      "source": [
        "### Lets Build Logistic Regression Using 2 PCA Components"
      ]
    },
    {
      "cell_type": "code",
      "execution_count": null,
      "id": "dbdf121d",
      "metadata": {
        "id": "dbdf121d",
        "outputId": "c7756768-ba44-40ef-a97c-e2420e0b8186"
      },
      "outputs": [
        {
          "data": {
            "text/plain": [
              "LogisticRegression(max_iter=1000, solver='sag', tol=0.001)"
            ]
          },
          "execution_count": 41,
          "metadata": {},
          "output_type": "execute_result"
        }
      ],
      "source": [
        "lr = LogisticRegression(max_iter=1000, tol=0.001, solver='sag')\n",
        "lr.fit(pca_components[:,:10], y_train)"
      ]
    },
    {
      "cell_type": "code",
      "execution_count": null,
      "id": "47601832",
      "metadata": {
        "id": "47601832",
        "outputId": "c0665aa3-4381-4ba0-f931-68f3fe066966"
      },
      "outputs": [
        {
          "data": {
            "text/plain": [
              "0.900873229879105"
            ]
          },
          "execution_count": 42,
          "metadata": {},
          "output_type": "execute_result"
        }
      ],
      "source": [
        "lr.score(pca_components[:,:10], y_train)"
      ]
    },
    {
      "cell_type": "code",
      "execution_count": null,
      "id": "2029f22e",
      "metadata": {
        "id": "2029f22e",
        "outputId": "9d701d73-cfe6-4675-f3a3-894d1f092a68"
      },
      "outputs": [
        {
          "data": {
            "text/plain": [
              "Pipeline(steps=[('imputation',\n",
              "                 SimpleImputer(fill_value=0, strategy='constant')),\n",
              "                ('scaling', StandardScaler()), ('pca', PCA(n_components=10)),\n",
              "                ('model',\n",
              "                 LogisticRegression(max_iter=1000, solver='sag', tol=0.001))])"
            ]
          },
          "execution_count": 43,
          "metadata": {},
          "output_type": "execute_result"
        }
      ],
      "source": [
        "#Building a Pipeline to Evaluate model on Test Data\n",
        "imp = SimpleImputer(strategy='constant', fill_value=0)\n",
        "scale = StandardScaler()\n",
        "pca = PCA(n_components=10)\n",
        "lr = LogisticRegression(max_iter=1000, tol=0.001, solver='sag')\n",
        "\n",
        "pipe = Pipeline(steps = [('imputation',imp),\n",
        "                         ('scaling',scale),\n",
        "                         ('pca',pca),\n",
        "                         ('model',lr)])\n",
        "\n",
        "pipe.fit(X_train, y_train)"
      ]
    },
    {
      "cell_type": "code",
      "execution_count": null,
      "id": "8d0f18c5",
      "metadata": {
        "id": "8d0f18c5",
        "outputId": "3352a80e-6db0-448e-d5d1-a6c47dbfd970"
      },
      "outputs": [
        {
          "data": {
            "text/plain": [
              "0.9009089448025858"
            ]
          },
          "execution_count": 44,
          "metadata": {},
          "output_type": "execute_result"
        }
      ],
      "source": [
        "#Cheching the Train Score\n",
        "pipe.score(X_train, y_train)"
      ]
    },
    {
      "cell_type": "code",
      "execution_count": null,
      "id": "6c9a30b4",
      "metadata": {
        "id": "6c9a30b4",
        "outputId": "4c2ad7ee-5858-483f-c2f3-356246a00b02"
      },
      "outputs": [
        {
          "data": {
            "text/plain": [
              "0.8977857142857143"
            ]
          },
          "execution_count": 45,
          "metadata": {},
          "output_type": "execute_result"
        }
      ],
      "source": [
        "#Cheching the Test Score\n",
        "pipe.score(X_test, y_test)"
      ]
    },
    {
      "cell_type": "code",
      "execution_count": null,
      "id": "508096d7",
      "metadata": {
        "id": "508096d7",
        "outputId": "524498e2-7eea-4aaf-f33f-e270eaef4bc9"
      },
      "outputs": [
        {
          "name": "stdout",
          "output_type": "stream",
          "text": [
            "Training Confusion Matrix\n",
            "[[49760   561]\n",
            " [ 4988   690]]\n",
            "Testing Confusion Matrix\n",
            "[[12352   194]\n",
            " [ 1237   217]]\n"
          ]
        }
      ],
      "source": [
        "#Looking at the Condusion Matrix\n",
        "print('Training Confusion Matrix')\n",
        "print(confusion_matrix(y_train, pipe.predict(X_train)))\n",
        "print('Testing Confusion Matrix')\n",
        "print(confusion_matrix(y_test, pipe.predict(X_test)))"
      ]
    },
    {
      "cell_type": "code",
      "execution_count": null,
      "id": "d3f2923c",
      "metadata": {
        "id": "d3f2923c",
        "outputId": "ee040b82-cf23-46e0-8d36-9064b9493727"
      },
      "outputs": [
        {
          "name": "stdout",
          "output_type": "stream",
          "text": [
            "Precision Score:\n",
            "0.5279805352798054\n",
            "Recall Score:\n",
            "0.14924346629986246\n"
          ]
        }
      ],
      "source": [
        "print('Precision Score:')\n",
        "print(precision_score(y_test, pipe.predict(X_test)))\n",
        "print('Recall Score:')\n",
        "print(recall_score(y_test, pipe.predict(X_test)))"
      ]
    },
    {
      "cell_type": "markdown",
      "id": "c6c81108",
      "metadata": {
        "id": "c6c81108"
      },
      "source": [
        "### We can get very close to the Original Logistic Model by using only 10 Components"
      ]
    },
    {
      "cell_type": "markdown",
      "id": "fe01337f",
      "metadata": {
        "id": "fe01337f"
      },
      "source": [
        "### Let's try building a boosting model using 10 components"
      ]
    },
    {
      "cell_type": "code",
      "execution_count": null,
      "id": "ddd86381",
      "metadata": {
        "id": "ddd86381"
      },
      "outputs": [],
      "source": [
        "#Create and instance of XGBoost Classifier\n",
        "xgb_classifier = xgb.XGBClassifier(n_jobs=-1, objective='binary:logistic')"
      ]
    },
    {
      "cell_type": "code",
      "execution_count": null,
      "id": "26ddf834",
      "metadata": {
        "id": "26ddf834"
      },
      "outputs": [],
      "source": [
        "#Build a Random Search Model to find the best Parameters\n",
        "\n",
        "params = {\n",
        "    'n_estimators': [100, 200, 500, 750, 1000],\n",
        "    'learning_rate': [0.01, 0.02, 0.05, 0.1, 0.2, 0.5, 1],\n",
        "    'min_child_weight': [1, 2, 3, 5],\n",
        "    'gamma': [0.1, 0.5, 1, 1.5, 2],\n",
        "    'subsample': [0.2, 0.4, 0.6, 0.8, 1],\n",
        "    'colsample_bytree': [0.2, 0.4, 0.6, 0.8, 1],\n",
        "    'max_depth': [3, 4, 5, 10]\n",
        "}\n",
        "\n",
        "folds=3\n",
        "param_comp=200\n",
        "\n",
        "random_search = RandomizedSearchCV(xgb_classifier, param_distributions=params, n_jobs=-1, cv=3, verbose=3, random_state=0)"
      ]
    },
    {
      "cell_type": "code",
      "execution_count": null,
      "id": "f8d792f9",
      "metadata": {
        "id": "f8d792f9",
        "outputId": "368ff9c0-bf0d-46b5-868c-10fa1cbbc202"
      },
      "outputs": [
        {
          "name": "stdout",
          "output_type": "stream",
          "text": [
            "Fitting 3 folds for each of 10 candidates, totalling 30 fits\n",
            "[20:41:52] WARNING: C:/Users/Administrator/workspace/xgboost-win64_release_1.5.1/src/learner.cc:1115: Starting in XGBoost 1.3.0, the default evaluation metric used with the objective 'binary:logistic' was changed from 'error' to 'logloss'. Explicitly set eval_metric if you'd like to restore the old behavior.\n"
          ]
        },
        {
          "data": {
            "text/plain": [
              "RandomizedSearchCV(cv=3,\n",
              "                   estimator=XGBClassifier(base_score=None, booster=None,\n",
              "                                           colsample_bylevel=None,\n",
              "                                           colsample_bynode=None,\n",
              "                                           colsample_bytree=None,\n",
              "                                           enable_categorical=False, gamma=None,\n",
              "                                           gpu_id=None, importance_type=None,\n",
              "                                           interaction_constraints=None,\n",
              "                                           learning_rate=None,\n",
              "                                           max_delta_step=None, max_depth=None,\n",
              "                                           min_child_weight=None, missing=nan,\n",
              "                                           monotone_constraints...\n",
              "                                           subsample=None, tree_method=None,\n",
              "                                           validate_parameters=None,\n",
              "                                           verbosity=None),\n",
              "                   n_jobs=-1,\n",
              "                   param_distributions={'colsample_bytree': [0.2, 0.4, 0.6, 0.8,\n",
              "                                                             1],\n",
              "                                        'gamma': [0.1, 0.5, 1, 1.5, 2],\n",
              "                                        'learning_rate': [0.01, 0.02, 0.05, 0.1,\n",
              "                                                          0.2, 0.5, 1],\n",
              "                                        'max_depth': [3, 4, 5, 10],\n",
              "                                        'min_child_weight': [1, 2, 3, 5],\n",
              "                                        'n_estimators': [100, 200, 500, 750,\n",
              "                                                         1000],\n",
              "                                        'subsample': [0.2, 0.4, 0.6, 0.8, 1]},\n",
              "                   random_state=0, verbose=3)"
            ]
          },
          "execution_count": 50,
          "metadata": {},
          "output_type": "execute_result"
        }
      ],
      "source": [
        "random_search.fit(pca_components[:,:25], y_train)"
      ]
    },
    {
      "cell_type": "code",
      "execution_count": null,
      "id": "70220137",
      "metadata": {
        "id": "70220137",
        "outputId": "b88dbef7-aa68-4b81-ff1b-e0fbeb888b04"
      },
      "outputs": [
        {
          "data": {
            "text/plain": [
              "0.954231325559385"
            ]
          },
          "execution_count": 51,
          "metadata": {},
          "output_type": "execute_result"
        }
      ],
      "source": [
        "random_search.score(pca_components[:,:25], y_train)"
      ]
    },
    {
      "cell_type": "code",
      "execution_count": null,
      "id": "a111eba5",
      "metadata": {
        "id": "a111eba5",
        "outputId": "af5644b6-7234-4693-933f-6e9c5f6e30d1"
      },
      "outputs": [
        {
          "data": {
            "text/plain": [
              "{'subsample': 0.8,\n",
              " 'n_estimators': 750,\n",
              " 'min_child_weight': 3,\n",
              " 'max_depth': 5,\n",
              " 'learning_rate': 0.05,\n",
              " 'gamma': 2,\n",
              " 'colsample_bytree': 1}"
            ]
          },
          "execution_count": 52,
          "metadata": {},
          "output_type": "execute_result"
        }
      ],
      "source": [
        "random_search.best_params_"
      ]
    },
    {
      "cell_type": "markdown",
      "id": "09ee0464",
      "metadata": {
        "id": "09ee0464"
      },
      "source": [
        "### We can see that the best value for XGBoost are\n",
        "- subsample=0.8\n",
        "- n_estimators=750\n",
        "- min_child_weight=3\n",
        "- max_depth=5\n",
        "- learning_rate=0.05\n",
        "- gamma=2\n",
        "- colsample_bytree=1"
      ]
    },
    {
      "cell_type": "code",
      "execution_count": null,
      "id": "1b6ad31e",
      "metadata": {
        "id": "1b6ad31e",
        "outputId": "7ea93942-4747-48fb-af0c-49816081bc3e"
      },
      "outputs": [
        {
          "name": "stdout",
          "output_type": "stream",
          "text": [
            "[20:42:56] WARNING: C:/Users/Administrator/workspace/xgboost-win64_release_1.5.1/src/learner.cc:1115: Starting in XGBoost 1.3.0, the default evaluation metric used with the objective 'binary:logistic' was changed from 'error' to 'logloss'. Explicitly set eval_metric if you'd like to restore the old behavior.\n"
          ]
        },
        {
          "data": {
            "text/plain": [
              "Pipeline(steps=[('imputation',\n",
              "                 SimpleImputer(fill_value=0, strategy='constant')),\n",
              "                ('scaling', StandardScaler()), ('pca', PCA(n_components=25)),\n",
              "                ('model',\n",
              "                 XGBClassifier(base_score=0.5, booster='gbtree',\n",
              "                               colsample_bylevel=1, colsample_bynode=1,\n",
              "                               colsample_bytree=1, enable_categorical=False,\n",
              "                               gamma=2, gpu_id=-1, importance_type=None,\n",
              "                               interaction_constraints='', learning_rate=0.05,\n",
              "                               max_delta_step=0, max_depth=5,\n",
              "                               min_child_weight=3, missing=nan,\n",
              "                               monotone_constraints='()', n_estimators=500,\n",
              "                               n_jobs=-1, num_parallel_tree=1, predictor='auto',\n",
              "                               random_state=0, reg_alpha=0, reg_lambda=1,\n",
              "                               scale_pos_weight=1, subsample=0.8,\n",
              "                               tree_method='exact', validate_parameters=1,\n",
              "                               verbosity=None))])"
            ]
          },
          "execution_count": 53,
          "metadata": {},
          "output_type": "execute_result"
        }
      ],
      "source": [
        "#Building a Pipeline using the Above Parameter Values to Evaluate model on Test Data\n",
        "imp = SimpleImputer(strategy='constant', fill_value=0)\n",
        "scale = StandardScaler()\n",
        "pca = PCA(n_components=25)\n",
        "xgb_classifier = xgb.XGBClassifier(n_jobs = -1, objective='binary:logistic', subsample=0.8, n_estimators=500, min_child_weight=3,\n",
        "                                   max_depth=5, learning_rate=0.05, gamma=2, colsample_bytree=1)\n",
        "\n",
        "pipe = Pipeline(steps = [('imputation',imp),\n",
        "                         ('scaling',scale),\n",
        "                         ('pca',pca),\n",
        "                         ('model',xgb_classifier)])\n",
        "\n",
        "pipe.fit(X_train, y_train)"
      ]
    },
    {
      "cell_type": "code",
      "execution_count": null,
      "id": "4bf5319f",
      "metadata": {
        "id": "4bf5319f",
        "outputId": "e8014b69-39dd-49ec-8857-a1cebf94db82"
      },
      "outputs": [
        {
          "data": {
            "text/plain": [
              "0.9410882337184593"
            ]
          },
          "execution_count": 54,
          "metadata": {},
          "output_type": "execute_result"
        }
      ],
      "source": [
        "#Cheching the Train Score\n",
        "pipe.score(X_train, y_train)"
      ]
    },
    {
      "cell_type": "code",
      "execution_count": null,
      "id": "d7e6cac9",
      "metadata": {
        "id": "d7e6cac9",
        "outputId": "ea8a2be5-8192-4483-a98c-99e16469619c"
      },
      "outputs": [
        {
          "data": {
            "text/plain": [
              "0.9109285714285714"
            ]
          },
          "execution_count": 55,
          "metadata": {},
          "output_type": "execute_result"
        }
      ],
      "source": [
        "#Cheching the Test Score\n",
        "pipe.score(X_test, y_test)"
      ]
    },
    {
      "cell_type": "code",
      "execution_count": null,
      "id": "15adf86f",
      "metadata": {
        "id": "15adf86f",
        "outputId": "0c83bf1a-3133-46f6-d30d-c85fefe10f30"
      },
      "outputs": [
        {
          "name": "stdout",
          "output_type": "stream",
          "text": [
            "Training Confusion Matrix\n",
            "[[49677   644]\n",
            " [ 2655  3023]]\n",
            "Testing Confusion Matrix\n",
            "[[12212   334]\n",
            " [  913   541]]\n"
          ]
        }
      ],
      "source": [
        "#Looking at the Condusion Matrix\n",
        "print('Training Confusion Matrix')\n",
        "print(confusion_matrix(y_train, pipe.predict(X_train)))\n",
        "print('Testing Confusion Matrix')\n",
        "print(confusion_matrix(y_test, pipe.predict(X_test)))"
      ]
    },
    {
      "cell_type": "code",
      "execution_count": null,
      "id": "f9ac74bc",
      "metadata": {
        "id": "f9ac74bc",
        "outputId": "a6493075-35f6-463a-8e1e-bccc7bc293a3"
      },
      "outputs": [
        {
          "name": "stdout",
          "output_type": "stream",
          "text": [
            "Precision Score:\n",
            "0.6182857142857143\n",
            "Recall Score:\n",
            "0.37207702888583216\n"
          ]
        }
      ],
      "source": [
        "print('Precision Score:')\n",
        "print(precision_score(y_test, pipe.predict(X_test)))\n",
        "print('Recall Score:')\n",
        "print(recall_score(y_test, pipe.predict(X_test)))"
      ]
    },
    {
      "cell_type": "markdown",
      "id": "3356d391",
      "metadata": {
        "id": "3356d391"
      },
      "source": [
        "### We can see that the Boositng Score is slightly Better than the Logistic Regression Score"
      ]
    },
    {
      "cell_type": "markdown",
      "id": "e94ffc13",
      "metadata": {
        "id": "e94ffc13"
      },
      "source": [
        "# Part 6: Creating the Final Submission File"
      ]
    },
    {
      "cell_type": "code",
      "execution_count": null,
      "id": "6bd7c356",
      "metadata": {
        "id": "6bd7c356"
      },
      "outputs": [],
      "source": [
        "col_names = list(X_train.columns.values)\n",
        "col_names.append('id')"
      ]
    },
    {
      "cell_type": "code",
      "execution_count": null,
      "id": "8d2e493c",
      "metadata": {
        "id": "8d2e493c",
        "outputId": "997d905e-84e6-42d8-980b-292ae51c2091"
      },
      "outputs": [
        {
          "data": {
            "text/plain": [
              "(30000, 127)"
            ]
          },
          "execution_count": 59,
          "metadata": {},
          "output_type": "execute_result"
        }
      ],
      "source": [
        "submission_data = unseen\n",
        "submission_data = submission_data[X_train.columns]\n",
        "submission_data.shape"
      ]
    },
    {
      "cell_type": "code",
      "execution_count": null,
      "id": "300b04a1",
      "metadata": {
        "id": "300b04a1"
      },
      "outputs": [],
      "source": [
        "for i in object_columns:\n",
        "    submission_data[i] = pd.to_datetime(submission_data[i])\n",
        "\n",
        "for i in object_columns:\n",
        "    submission_data[i] = submission_data[i].max() - submission_data[i]\n",
        "    submission_data[i] = submission_data[i].dt.days"
      ]
    },
    {
      "cell_type": "code",
      "execution_count": null,
      "id": "738288c7",
      "metadata": {
        "id": "738288c7",
        "outputId": "2ce74dbc-8834-4d97-cc38-fd346c87165f"
      },
      "outputs": [
        {
          "data": {
            "text/html": [
              "<div>\n",
              "<style scoped>\n",
              "    .dataframe tbody tr th:only-of-type {\n",
              "        vertical-align: middle;\n",
              "    }\n",
              "\n",
              "    .dataframe tbody tr th {\n",
              "        vertical-align: top;\n",
              "    }\n",
              "\n",
              "    .dataframe thead th {\n",
              "        text-align: right;\n",
              "    }\n",
              "</style>\n",
              "<table border=\"1\" class=\"dataframe\">\n",
              "  <thead>\n",
              "    <tr style=\"text-align: right;\">\n",
              "      <th></th>\n",
              "      <th>id</th>\n",
              "      <th>churn_probability</th>\n",
              "    </tr>\n",
              "  </thead>\n",
              "  <tbody>\n",
              "    <tr>\n",
              "      <th>0</th>\n",
              "      <td>69999</td>\n",
              "      <td>0</td>\n",
              "    </tr>\n",
              "    <tr>\n",
              "      <th>1</th>\n",
              "      <td>70000</td>\n",
              "      <td>0</td>\n",
              "    </tr>\n",
              "    <tr>\n",
              "      <th>2</th>\n",
              "      <td>70001</td>\n",
              "      <td>0</td>\n",
              "    </tr>\n",
              "    <tr>\n",
              "      <th>3</th>\n",
              "      <td>70002</td>\n",
              "      <td>0</td>\n",
              "    </tr>\n",
              "    <tr>\n",
              "      <th>4</th>\n",
              "      <td>70003</td>\n",
              "      <td>0</td>\n",
              "    </tr>\n",
              "  </tbody>\n",
              "</table>\n",
              "</div>"
            ],
            "text/plain": [
              "      id  churn_probability\n",
              "0  69999                  0\n",
              "1  70000                  0\n",
              "2  70001                  0\n",
              "3  70002                  0\n",
              "4  70003                  0"
            ]
          },
          "execution_count": 61,
          "metadata": {},
          "output_type": "execute_result"
        }
      ],
      "source": [
        "unseen['churn_probability'] = pipe.predict(submission_data)\n",
        "output = unseen[['id','churn_probability']]\n",
        "output.head()"
      ]
    },
    {
      "cell_type": "code",
      "execution_count": null,
      "id": "e59607b6",
      "metadata": {
        "id": "e59607b6"
      },
      "outputs": [],
      "source": [
        "output.to_csv('samuel_kolli_final.csv',index=False)"
      ]
    },
    {
      "cell_type": "markdown",
      "id": "515b0cce",
      "metadata": {
        "id": "515b0cce"
      },
      "source": [
        "# Part 7: Conclusion"
      ]
    },
    {
      "cell_type": "markdown",
      "id": "d6ebd532",
      "metadata": {
        "id": "d6ebd532"
      },
      "source": [
        "### Using the XGBootClassifier Model with 25 PCA is a good choice because if we go for higher number of components, the computation time is increase exponentially and therefore it is not worth it for a marginal increase in accuracy."
      ]
    }
  ],
  "metadata": {
    "kernelspec": {
      "display_name": "Python 3",
      "language": "python",
      "name": "python3"
    },
    "language_info": {
      "codemirror_mode": {
        "name": "ipython",
        "version": 3
      },
      "file_extension": ".py",
      "mimetype": "text/x-python",
      "name": "python",
      "nbconvert_exporter": "python",
      "pygments_lexer": "ipython3",
      "version": "3.8.8"
    },
    "colab": {
      "provenance": [],
      "include_colab_link": true
    }
  },
  "nbformat": 4,
  "nbformat_minor": 5
}